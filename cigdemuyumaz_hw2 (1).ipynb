{
 "cells": [
  {
   "cell_type": "code",
   "execution_count": null,
   "metadata": {
    "id": "_sNuhgE6p_8Z"
   },
   "outputs": [],
   "source": [
    "import numpy as np\n",
    "import pandas as pd\n",
    "import seaborn as sns\n",
    "import scipy.stats as stats\n",
    "from sklearn import preprocessing\n",
    "from sklearn import model_selection\n",
    "from sklearn.metrics import accuracy_score\n",
    "from sklearn.metrics import roc_curve, auc\n",
    "from sklearn.metrics import confusion_matrix\n",
    "from sklearn.preprocessing import StandardScaler\n",
    "from sklearn.discriminant_analysis import LinearDiscriminantAnalysis\n",
    "from sklearn.model_selection import GridSearchCV\n",
    "from sklearn.metrics import classification_report\n",
    "from sklearn.neighbors import KNeighborsClassifier\n",
    "from sklearn.pipeline import Pipeline\n",
    "from sklearn.linear_model import LogisticRegression\n",
    "from xgboost.sklearn import XGBClassifier\n",
    "from sklearn.tree import DecisionTreeClassifier\n",
    "from sklearn.ensemble import RandomForestClassifier, ExtraTreesClassifier\n",
    "from sklearn.ensemble import GradientBoostingClassifier, BaggingClassifier, AdaBoostClassifier\n",
    "from sklearn.model_selection import cross_val_score\n",
    "from sklearn.model_selection import StratifiedKFold\n",
    "from sklearn.naive_bayes import GaussianNB\n",
    "from sklearn.model_selection import train_test_split\n",
    "from sklearn.metrics import accuracy_score, log_loss, f1_score, precision_score, recall_score\n",
    "from sklearn.svm import SVC\n",
    "from sklearn.ensemble import VotingClassifier, StackingClassifier\n",
    "import matplotlib.pyplot as plt\n",
    "import pandas as pd\n",
    "import numpy as np\n",
    "import scipy.stats as stats \n",
    "from matplotlib import pyplot as plt\n",
    "import statsmodels.api as sm\n",
    "import statsmodels.formula.api as smf\n",
    "import seaborn as sns\n",
    "import time\n",
    "from sklearn import metrics  \n",
    "from sklearn import preprocessing\n",
    "from sklearn import model_selection\n",
    "from sklearn.pipeline import Pipeline\n",
    "from sklearn.metrics import accuracy_score\n",
    "from sklearn.metrics import confusion_matrix\n",
    "from lightgbm import LGBMClassifier\n",
    "from  xgboost import XGBClassifier\n",
    "from sklearn.preprocessing import StandardScaler\n",
    "from sklearn.metrics import classification_report\n",
    "from sklearn.model_selection import StratifiedKFold\n",
    "from sklearn.model_selection import cross_val_score\n",
    "from sklearn.model_selection import train_test_split\n",
    "from sklearn.model_selection import cross_val_predict\n",
    "from sklearn.metrics import roc_curve, roc_auc_score, auc\n",
    "from sklearn.model_selection import GridSearchCV, RandomizedSearchCV\n",
    "\n",
    "from sklearn.linear_model import LogisticRegression\n",
    "from sklearn.ensemble import RandomForestClassifier\n",
    "from sklearn.feature_selection import chi2\n",
    "from sklearn.feature_selection import SelectKBest\n",
    "from sklearn.preprocessing import LabelEncoder, OrdinalEncoder\n",
    "sns.set()\n",
    "import warnings\n",
    "warnings.filterwarnings(\"ignore\") # Don't want to see the warnings in the notebook\n",
    "# explicitly require this experimental feature\n",
    "from sklearn.experimental import enable_iterative_imputer\n",
    "# now you can import normally from sklearn.impute\n",
    "from sklearn.impute import IterativeImputer, SimpleImputer\n",
    "from sklearn import model_selection\n",
    "from sklearn.preprocessing import binarize\n",
    "from sklearn.metrics import roc_curve, auc\n",
    "from sklearn.metrics import confusion_matrix\n",
    "from sklearn.compose import ColumnTransformer\n",
    "from sklearn.preprocessing import StandardScaler\n",
    "from sklearn.model_selection import GridSearchCV\n",
    "from sklearn.metrics import precision_recall_curve\n",
    "from sklearn.linear_model import LogisticRegression\n",
    "from sklearn.model_selection import StratifiedKFold\n",
    "from sklearn.pipeline import make_pipeline, Pipeline\n",
    "from sklearn.metrics import precision_score, recall_score, roc_auc_score, precision_recall_curve\n",
    "from sklearn.metrics import f1_score, fbeta_score, accuracy_score, classification_report, average_precision_score\n",
    "from datetime import datetime,timedelta\n",
    "from imblearn.combine import SMOTEENN\n",
    "from imblearn.under_sampling import EditedNearestNeighbours\n",
    "# Import libraries\n",
    "from imblearn.over_sampling import SMOTE\n",
    "from imblearn.pipeline import Pipeline as pipe_imb\n",
    "from imblearn.over_sampling import RandomOverSampler\n",
    "from imblearn.under_sampling import RandomUnderSampler\n",
    "from imblearn.metrics import classification_report_imbalanced\n",
    "from imblearn.pipeline import make_pipeline as make_pipeline_imb\n",
    "from imblearn.pipeline import Pipeline as pipe_imb\n",
    "from sklearn.ensemble import RandomForestClassifier as RF\n",
    "import missingno as msno\n",
    "\n",
    "import sklearn.decomposition as dec"
   ]
  },
  {
   "cell_type": "code",
   "execution_count": null,
   "metadata": {
    "colab": {
     "base_uri": "https://localhost:8080/",
     "height": 217
    },
    "id": "s9TtT91DsBMK",
    "outputId": "d7f7112d-6aeb-4acd-fef4-d0004aef0eac"
   },
   "outputs": [
    {
     "data": {
      "text/html": [
       "<div>\n",
       "<style scoped>\n",
       "    .dataframe tbody tr th:only-of-type {\n",
       "        vertical-align: middle;\n",
       "    }\n",
       "\n",
       "    .dataframe tbody tr th {\n",
       "        vertical-align: top;\n",
       "    }\n",
       "\n",
       "    .dataframe thead th {\n",
       "        text-align: right;\n",
       "    }\n",
       "</style>\n",
       "<table border=\"1\" class=\"dataframe\">\n",
       "  <thead>\n",
       "    <tr style=\"text-align: right;\">\n",
       "      <th></th>\n",
       "      <th>LIMIT_BAL</th>\n",
       "      <th>SEX</th>\n",
       "      <th>EDUCATION</th>\n",
       "      <th>MARRIAGE</th>\n",
       "      <th>AGE</th>\n",
       "      <th>PAY_0</th>\n",
       "      <th>PAY_2</th>\n",
       "      <th>PAY_3</th>\n",
       "      <th>PAY_4</th>\n",
       "      <th>PAY_5</th>\n",
       "      <th>PAY_6</th>\n",
       "      <th>BILL_AMT1</th>\n",
       "      <th>BILL_AMT2</th>\n",
       "      <th>BILL_AMT3</th>\n",
       "      <th>BILL_AMT4</th>\n",
       "      <th>BILL_AMT5</th>\n",
       "      <th>BILL_AMT6</th>\n",
       "      <th>PAY_AMT1</th>\n",
       "      <th>PAY_AMT2</th>\n",
       "      <th>PAY_AMT3</th>\n",
       "      <th>PAY_AMT4</th>\n",
       "      <th>PAY_AMT5</th>\n",
       "      <th>PAY_AMT6</th>\n",
       "      <th>default</th>\n",
       "    </tr>\n",
       "  </thead>\n",
       "  <tbody>\n",
       "    <tr>\n",
       "      <th>0</th>\n",
       "      <td>20000</td>\n",
       "      <td>2</td>\n",
       "      <td>2</td>\n",
       "      <td>1</td>\n",
       "      <td>24</td>\n",
       "      <td>2</td>\n",
       "      <td>2</td>\n",
       "      <td>-1</td>\n",
       "      <td>-1</td>\n",
       "      <td>-2</td>\n",
       "      <td>-2</td>\n",
       "      <td>3913</td>\n",
       "      <td>3102</td>\n",
       "      <td>689</td>\n",
       "      <td>0</td>\n",
       "      <td>0</td>\n",
       "      <td>0</td>\n",
       "      <td>0</td>\n",
       "      <td>689</td>\n",
       "      <td>0</td>\n",
       "      <td>0</td>\n",
       "      <td>0</td>\n",
       "      <td>0</td>\n",
       "      <td>1</td>\n",
       "    </tr>\n",
       "    <tr>\n",
       "      <th>1</th>\n",
       "      <td>120000</td>\n",
       "      <td>2</td>\n",
       "      <td>2</td>\n",
       "      <td>2</td>\n",
       "      <td>26</td>\n",
       "      <td>-1</td>\n",
       "      <td>2</td>\n",
       "      <td>0</td>\n",
       "      <td>0</td>\n",
       "      <td>0</td>\n",
       "      <td>2</td>\n",
       "      <td>2682</td>\n",
       "      <td>1725</td>\n",
       "      <td>2682</td>\n",
       "      <td>3272</td>\n",
       "      <td>3455</td>\n",
       "      <td>3261</td>\n",
       "      <td>0</td>\n",
       "      <td>1000</td>\n",
       "      <td>1000</td>\n",
       "      <td>1000</td>\n",
       "      <td>0</td>\n",
       "      <td>2000</td>\n",
       "      <td>1</td>\n",
       "    </tr>\n",
       "    <tr>\n",
       "      <th>2</th>\n",
       "      <td>90000</td>\n",
       "      <td>2</td>\n",
       "      <td>2</td>\n",
       "      <td>2</td>\n",
       "      <td>34</td>\n",
       "      <td>0</td>\n",
       "      <td>0</td>\n",
       "      <td>0</td>\n",
       "      <td>0</td>\n",
       "      <td>0</td>\n",
       "      <td>0</td>\n",
       "      <td>29239</td>\n",
       "      <td>14027</td>\n",
       "      <td>13559</td>\n",
       "      <td>14331</td>\n",
       "      <td>14948</td>\n",
       "      <td>15549</td>\n",
       "      <td>1518</td>\n",
       "      <td>1500</td>\n",
       "      <td>1000</td>\n",
       "      <td>1000</td>\n",
       "      <td>1000</td>\n",
       "      <td>5000</td>\n",
       "      <td>0</td>\n",
       "    </tr>\n",
       "    <tr>\n",
       "      <th>3</th>\n",
       "      <td>50000</td>\n",
       "      <td>2</td>\n",
       "      <td>2</td>\n",
       "      <td>1</td>\n",
       "      <td>37</td>\n",
       "      <td>0</td>\n",
       "      <td>0</td>\n",
       "      <td>0</td>\n",
       "      <td>0</td>\n",
       "      <td>0</td>\n",
       "      <td>0</td>\n",
       "      <td>46990</td>\n",
       "      <td>48233</td>\n",
       "      <td>49291</td>\n",
       "      <td>28314</td>\n",
       "      <td>28959</td>\n",
       "      <td>29547</td>\n",
       "      <td>2000</td>\n",
       "      <td>2019</td>\n",
       "      <td>1200</td>\n",
       "      <td>1100</td>\n",
       "      <td>1069</td>\n",
       "      <td>1000</td>\n",
       "      <td>0</td>\n",
       "    </tr>\n",
       "    <tr>\n",
       "      <th>4</th>\n",
       "      <td>50000</td>\n",
       "      <td>1</td>\n",
       "      <td>2</td>\n",
       "      <td>1</td>\n",
       "      <td>57</td>\n",
       "      <td>-1</td>\n",
       "      <td>0</td>\n",
       "      <td>-1</td>\n",
       "      <td>0</td>\n",
       "      <td>0</td>\n",
       "      <td>0</td>\n",
       "      <td>8617</td>\n",
       "      <td>5670</td>\n",
       "      <td>35835</td>\n",
       "      <td>20940</td>\n",
       "      <td>19146</td>\n",
       "      <td>19131</td>\n",
       "      <td>2000</td>\n",
       "      <td>36681</td>\n",
       "      <td>10000</td>\n",
       "      <td>9000</td>\n",
       "      <td>689</td>\n",
       "      <td>679</td>\n",
       "      <td>0</td>\n",
       "    </tr>\n",
       "  </tbody>\n",
       "</table>\n",
       "</div>"
      ],
      "text/plain": [
       "   LIMIT_BAL  SEX  EDUCATION  MARRIAGE  ...  PAY_AMT4  PAY_AMT5  PAY_AMT6  default\n",
       "0      20000    2          2         1  ...         0         0         0        1\n",
       "1     120000    2          2         2  ...      1000         0      2000        1\n",
       "2      90000    2          2         2  ...      1000      1000      5000        0\n",
       "3      50000    2          2         1  ...      1100      1069      1000        0\n",
       "4      50000    1          2         1  ...      9000       689       679        0\n",
       "\n",
       "[5 rows x 24 columns]"
      ]
     },
     "execution_count": 4,
     "metadata": {
      "tags": []
     },
     "output_type": "execute_result"
    }
   ],
   "source": [
    "df = pd.read_excel('default_of_credit_card_clients.xls',header=1)\n",
    "\n",
    "df=df.drop(['ID'], axis=1)\n",
    "\n",
    "df=df.rename(columns={\"default payment next month\":'default'})\n",
    "df.head()"
   ]
  },
  {
   "cell_type": "code",
   "execution_count": null,
   "metadata": {
    "colab": {
     "base_uri": "https://localhost:8080/",
     "height": 369
    },
    "id": "l1PXB5VaqGcK",
    "outputId": "d4daa4ee-47e9-429f-b465-c57a2eaaef31"
   },
   "outputs": [
    {
     "name": "stdout",
     "output_type": "stream",
     "text": [
      "default\n",
      "0    23364\n",
      "1     6636\n",
      "dtype: int64\n"
     ]
    },
    {
     "data": {
      "image/png": "[encoded data removed]",
      "text/plain": [
       "<Figure size 504x288 with 1 Axes>"
      ]
     },
     "metadata": {
      "tags": []
     },
     "output_type": "display_data"
    }
   ],
   "source": [
    "# ENBALANCED DATA SET\n",
    "plt.figure(figsize = (7,4))\n",
    "\n",
    "print(df.groupby('default').size()) # or (df.Churn == True).value_counts()\n",
    "sns.countplot(df['default'],label=\"Count\", palette=\"autumn\",saturation=0.4, capsize=0.2) # Frequency of Sales\n",
    "plt.title('Count of Default Payment type')\n",
    "\n",
    "plt.show()"
   ]
  },
  {
   "cell_type": "code",
   "execution_count": null,
   "metadata": {
    "colab": {
     "base_uri": "https://localhost:8080/",
     "height": 500
    },
    "id": "COydQoRnqGaD",
    "outputId": "692dd0cc-6074-46e0-a350-3a100aeda099"
   },
   "outputs": [
    {
     "data": {
      "image/png": "[encoded data removed]",
      "text/plain": [
       "<Figure size 864x432 with 3 Axes>"
      ]
     },
     "metadata": {
      "tags": []
     },
     "output_type": "display_data"
    }
   ],
   "source": [
    "sns.set()\n",
    "msno.bar(df, figsize=(12,6));"
   ]
  },
  {
   "cell_type": "markdown",
   "metadata": {
    "id": "0V1ApEOc2CqO"
   },
   "source": [
    "# LIMIT_BAL"
   ]
  },
  {
   "cell_type": "code",
   "execution_count": null,
   "metadata": {
    "colab": {
     "base_uri": "https://localhost:8080/",
     "height": 296
    },
    "id": "wT9KnTCdqGVI",
    "outputId": "8b909fb1-1125-4054-9235-891a06f3f7ab"
   },
   "outputs": [
    {
     "data": {
      "image/png": "[encoded data removed]",
      "text/plain": [
       "<Figure size 432x288 with 1 Axes>"
      ]
     },
     "metadata": {
      "tags": []
     },
     "output_type": "display_data"
    }
   ],
   "source": [
    "g = sns.kdeplot(df['LIMIT_BAL'][(df[\"default\"] == 0)], color=\"Red\", shade = True)\n",
    "g = sns.kdeplot(df['LIMIT_BAL'][(df[\"default\"] == 1)], ax =g, color=\"Blue\", shade= True)\n",
    "g.set_xlabel('LIMIT_BAL')\n",
    "g.set_ylabel(\"Frequency\")\n",
    "g = g.legend([\"Limit Balance for Default Payment = 0\", \"Limit Balance for Default Payment = 1\"])"
   ]
  },
  {
   "cell_type": "markdown",
   "metadata": {
    "id": "3jLhMEWL2FLI"
   },
   "source": [
    "# SEX"
   ]
  },
  {
   "cell_type": "code",
   "execution_count": null,
   "metadata": {
    "colab": {
     "base_uri": "https://localhost:8080/",
     "height": 297
    },
    "id": "6xK591MH2AIQ",
    "outputId": "f7cf909e-112d-4dbe-b5db-5ea93e3bf149"
   },
   "outputs": [
    {
     "data": {
      "image/png": "[encoded data removed]",
      "text/plain": [
       "<Figure size 576x288 with 1 Axes>"
      ]
     },
     "metadata": {
      "tags": []
     },
     "output_type": "display_data"
    }
   ],
   "source": [
    "table=pd.crosstab(df.SEX, df.default)\n",
    "table.div(table.sum(1).astype(float), axis=0).plot(kind='bar', figsize=(8,4), stacked=True)\n",
    "plt.title('SEX vs default')\n",
    "plt.xlabel('SEX')\n",
    "plt.ylabel('default')\n",
    "plt.show()"
   ]
  },
  {
   "cell_type": "code",
   "execution_count": null,
   "metadata": {
    "colab": {
     "base_uri": "https://localhost:8080/",
     "height": 97
    },
    "id": "CfhAaRzTHOgd",
    "outputId": "ebef7fd4-eb3f-42f8-d23b-9535640d5fb0"
   },
   "outputs": [
    {
     "data": {
      "text/html": [
       "<div>\n",
       "<style scoped>\n",
       "    .dataframe tbody tr th:only-of-type {\n",
       "        vertical-align: middle;\n",
       "    }\n",
       "\n",
       "    .dataframe tbody tr th {\n",
       "        vertical-align: top;\n",
       "    }\n",
       "\n",
       "    .dataframe thead th {\n",
       "        text-align: right;\n",
       "    }\n",
       "</style>\n",
       "<table border=\"1\" class=\"dataframe\">\n",
       "  <thead>\n",
       "    <tr style=\"text-align: right;\">\n",
       "      <th></th>\n",
       "      <th>LIMIT_BAL</th>\n",
       "      <th>EDUCATION</th>\n",
       "      <th>MARRIAGE</th>\n",
       "      <th>AGE</th>\n",
       "      <th>PAY_0</th>\n",
       "      <th>PAY_2</th>\n",
       "      <th>PAY_3</th>\n",
       "      <th>PAY_4</th>\n",
       "      <th>PAY_5</th>\n",
       "      <th>PAY_6</th>\n",
       "      <th>BILL_AMT1</th>\n",
       "      <th>BILL_AMT2</th>\n",
       "      <th>BILL_AMT3</th>\n",
       "      <th>BILL_AMT4</th>\n",
       "      <th>BILL_AMT5</th>\n",
       "      <th>BILL_AMT6</th>\n",
       "      <th>PAY_AMT1</th>\n",
       "      <th>PAY_AMT2</th>\n",
       "      <th>PAY_AMT3</th>\n",
       "      <th>PAY_AMT4</th>\n",
       "      <th>PAY_AMT5</th>\n",
       "      <th>PAY_AMT6</th>\n",
       "      <th>default</th>\n",
       "      <th>SEX_1</th>\n",
       "      <th>SEX_2</th>\n",
       "    </tr>\n",
       "  </thead>\n",
       "  <tbody>\n",
       "    <tr>\n",
       "      <th>0</th>\n",
       "      <td>20000</td>\n",
       "      <td>2</td>\n",
       "      <td>1</td>\n",
       "      <td>24</td>\n",
       "      <td>2</td>\n",
       "      <td>2</td>\n",
       "      <td>-1</td>\n",
       "      <td>-1</td>\n",
       "      <td>-2</td>\n",
       "      <td>-2</td>\n",
       "      <td>3913</td>\n",
       "      <td>3102</td>\n",
       "      <td>689</td>\n",
       "      <td>0</td>\n",
       "      <td>0</td>\n",
       "      <td>0</td>\n",
       "      <td>0</td>\n",
       "      <td>689</td>\n",
       "      <td>0</td>\n",
       "      <td>0</td>\n",
       "      <td>0</td>\n",
       "      <td>0</td>\n",
       "      <td>1</td>\n",
       "      <td>0</td>\n",
       "      <td>1</td>\n",
       "    </tr>\n",
       "  </tbody>\n",
       "</table>\n",
       "</div>"
      ],
      "text/plain": [
       "   LIMIT_BAL  EDUCATION  MARRIAGE  AGE  ...  PAY_AMT6  default  SEX_1  SEX_2\n",
       "0      20000          2         1   24  ...         0        1      0      1\n",
       "\n",
       "[1 rows x 25 columns]"
      ]
     },
     "execution_count": 9,
     "metadata": {
      "tags": []
     },
     "output_type": "execute_result"
    }
   ],
   "source": [
    "cols_to_transform = ['SEX'] # make a list if more than one column\n",
    "df = pd.get_dummies(df, columns = cols_to_transform)\n",
    "df.head(1)"
   ]
  },
  {
   "cell_type": "code",
   "execution_count": null,
   "metadata": {
    "colab": {
     "base_uri": "https://localhost:8080/",
     "height": 97
    },
    "id": "xdXvTZuqHSrw",
    "outputId": "719062c7-4e37-447e-d51d-20d53e4880f5"
   },
   "outputs": [
    {
     "data": {
      "text/html": [
       "<div>\n",
       "<style scoped>\n",
       "    .dataframe tbody tr th:only-of-type {\n",
       "        vertical-align: middle;\n",
       "    }\n",
       "\n",
       "    .dataframe tbody tr th {\n",
       "        vertical-align: top;\n",
       "    }\n",
       "\n",
       "    .dataframe thead th {\n",
       "        text-align: right;\n",
       "    }\n",
       "</style>\n",
       "<table border=\"1\" class=\"dataframe\">\n",
       "  <thead>\n",
       "    <tr style=\"text-align: right;\">\n",
       "      <th></th>\n",
       "      <th>LIMIT_BAL</th>\n",
       "      <th>EDUCATION</th>\n",
       "      <th>MARRIAGE</th>\n",
       "      <th>AGE</th>\n",
       "      <th>PAY_0</th>\n",
       "      <th>PAY_2</th>\n",
       "      <th>PAY_3</th>\n",
       "      <th>PAY_4</th>\n",
       "      <th>PAY_5</th>\n",
       "      <th>PAY_6</th>\n",
       "      <th>BILL_AMT1</th>\n",
       "      <th>BILL_AMT2</th>\n",
       "      <th>BILL_AMT3</th>\n",
       "      <th>BILL_AMT4</th>\n",
       "      <th>BILL_AMT5</th>\n",
       "      <th>BILL_AMT6</th>\n",
       "      <th>PAY_AMT1</th>\n",
       "      <th>PAY_AMT2</th>\n",
       "      <th>PAY_AMT3</th>\n",
       "      <th>PAY_AMT4</th>\n",
       "      <th>PAY_AMT5</th>\n",
       "      <th>PAY_AMT6</th>\n",
       "      <th>default</th>\n",
       "      <th>SEX_1</th>\n",
       "    </tr>\n",
       "  </thead>\n",
       "  <tbody>\n",
       "    <tr>\n",
       "      <th>0</th>\n",
       "      <td>20000</td>\n",
       "      <td>2</td>\n",
       "      <td>1</td>\n",
       "      <td>24</td>\n",
       "      <td>2</td>\n",
       "      <td>2</td>\n",
       "      <td>-1</td>\n",
       "      <td>-1</td>\n",
       "      <td>-2</td>\n",
       "      <td>-2</td>\n",
       "      <td>3913</td>\n",
       "      <td>3102</td>\n",
       "      <td>689</td>\n",
       "      <td>0</td>\n",
       "      <td>0</td>\n",
       "      <td>0</td>\n",
       "      <td>0</td>\n",
       "      <td>689</td>\n",
       "      <td>0</td>\n",
       "      <td>0</td>\n",
       "      <td>0</td>\n",
       "      <td>0</td>\n",
       "      <td>1</td>\n",
       "      <td>0</td>\n",
       "    </tr>\n",
       "  </tbody>\n",
       "</table>\n",
       "</div>"
      ],
      "text/plain": [
       "   LIMIT_BAL  EDUCATION  MARRIAGE  AGE  ...  PAY_AMT5  PAY_AMT6  default  SEX_1\n",
       "0      20000          2         1   24  ...         0         0        1      0\n",
       "\n",
       "[1 rows x 24 columns]"
      ]
     },
     "execution_count": 10,
     "metadata": {
      "tags": []
     },
     "output_type": "execute_result"
    }
   ],
   "source": [
    "df=df.drop(['SEX_2'], axis=1)\n",
    "df.head(1)"
   ]
  },
  {
   "cell_type": "markdown",
   "metadata": {
    "id": "msdIlX4D23IO"
   },
   "source": [
    "# EDUCATION"
   ]
  },
  {
   "cell_type": "code",
   "execution_count": null,
   "metadata": {
    "colab": {
     "base_uri": "https://localhost:8080/",
     "height": 297
    },
    "id": "VzokA-eH2yTW",
    "outputId": "4a625648-d11d-4efb-99cb-551cea469227"
   },
   "outputs": [
    {
     "data": {
      "image/png": "[encoded data removed]",
      "text/plain": [
       "<Figure size 576x288 with 1 Axes>"
      ]
     },
     "metadata": {
      "tags": []
     },
     "output_type": "display_data"
    }
   ],
   "source": [
    "table=pd.crosstab(df.EDUCATION, df.default)\n",
    "table.div(table.sum(1).astype(float), axis=0).plot(kind='bar', figsize=(8,4), stacked=True)\n",
    "plt.title('EDUCATION vs default')\n",
    "plt.xlabel('EDUCATION')\n",
    "plt.ylabel('default')\n",
    "plt.show()"
   ]
  },
  {
   "cell_type": "code",
   "execution_count": null,
   "metadata": {
    "colab": {
     "base_uri": "https://localhost:8080/",
     "height": 409
    },
    "id": "lVq_NwtaEVRd",
    "outputId": "3a485356-3b04-4da8-c7e3-ce9492988684"
   },
   "outputs": [
    {
     "data": {
      "text/plain": [
       "<matplotlib.axes._subplots.AxesSubplot at 0x7f0e5dd70b50>"
      ]
     },
     "execution_count": 12,
     "metadata": {
      "tags": []
     },
     "output_type": "execute_result"
    },
    {
     "data": {
      "image/png": "[encoded data removed]",
      "text/plain": [
       "<Figure size 864x432 with 1 Axes>"
      ]
     },
     "metadata": {
      "tags": []
     },
     "output_type": "display_data"
    }
   ],
   "source": [
    "df['NUMBER'] = 1 \n",
    "pivot_table = pd.pivot_table(df,values = 'NUMBER',index=['EDUCATION'],columns=['default'], aggfunc=np.sum,fill_value=0).rename_axis(None)\n",
    "pivot_table = pivot_table[[0,1]]\n",
    "pivot_table.plot(kind='barh', stacked=True,figsize=(12,6), title= 'EDUCATION and default', rot=0)"
   ]
  },
  {
   "cell_type": "code",
   "execution_count": null,
   "metadata": {
    "id": "iaoGJeI--ERx"
   },
   "outputs": [],
   "source": [
    "df['EDUCATION']= df['EDUCATION'].astype('str')"
   ]
  },
  {
   "cell_type": "code",
   "execution_count": null,
   "metadata": {
    "colab": {
     "base_uri": "https://localhost:8080/",
     "height": 342
    },
    "id": "Lhf53oyM93N8",
    "outputId": "f7f6ebf1-fac2-4f39-f04d-7865b8965cf0"
   },
   "outputs": [
    {
     "name": "stdout",
     "output_type": "stream",
     "text": [
      "Scores  : [ 3.976 51.15  21.238 26.336 19.271 40.02   1.225] \n",
      "\n",
      "p_values: [4.614e-02 8.559e-13 4.056e-06 2.868e-07 1.134e-05 2.514e-10 2.683e-01] \n",
      "\n",
      "Index(['0', '1', '2', '3', '4', '5', '6'], dtype='object')\n"
     ]
    },
    {
     "data": {
      "text/html": [
       "<div>\n",
       "<style scoped>\n",
       "    .dataframe tbody tr th:only-of-type {\n",
       "        vertical-align: middle;\n",
       "    }\n",
       "\n",
       "    .dataframe tbody tr th {\n",
       "        vertical-align: top;\n",
       "    }\n",
       "\n",
       "    .dataframe thead th {\n",
       "        text-align: right;\n",
       "    }\n",
       "</style>\n",
       "<table border=\"1\" class=\"dataframe\">\n",
       "  <thead>\n",
       "    <tr style=\"text-align: right;\">\n",
       "      <th></th>\n",
       "      <th>Feature</th>\n",
       "      <th>p-value</th>\n",
       "    </tr>\n",
       "  </thead>\n",
       "  <tbody>\n",
       "    <tr>\n",
       "      <th>1</th>\n",
       "      <td>1</td>\n",
       "      <td>0.000000</td>\n",
       "    </tr>\n",
       "    <tr>\n",
       "      <th>3</th>\n",
       "      <td>3</td>\n",
       "      <td>0.000000</td>\n",
       "    </tr>\n",
       "    <tr>\n",
       "      <th>5</th>\n",
       "      <td>5</td>\n",
       "      <td>0.000000</td>\n",
       "    </tr>\n",
       "    <tr>\n",
       "      <th>2</th>\n",
       "      <td>2</td>\n",
       "      <td>0.000004</td>\n",
       "    </tr>\n",
       "    <tr>\n",
       "      <th>4</th>\n",
       "      <td>4</td>\n",
       "      <td>0.000011</td>\n",
       "    </tr>\n",
       "    <tr>\n",
       "      <th>0</th>\n",
       "      <td>0</td>\n",
       "      <td>0.046143</td>\n",
       "    </tr>\n",
       "    <tr>\n",
       "      <th>6</th>\n",
       "      <td>6</td>\n",
       "      <td>0.268300</td>\n",
       "    </tr>\n",
       "  </tbody>\n",
       "</table>\n",
       "</div>"
      ],
      "text/plain": [
       "  Feature   p-value\n",
       "1       1  0.000000\n",
       "3       3  0.000000\n",
       "5       5  0.000000\n",
       "2       2  0.000004\n",
       "4       4  0.000011\n",
       "0       0  0.046143\n",
       "6       6  0.268300"
      ]
     },
     "execution_count": 15,
     "metadata": {
      "tags": []
     },
     "output_type": "execute_result"
    }
   ],
   "source": [
    "PythonDummies = df['EDUCATION'].str.get_dummies(sep=\",\")\n",
    "Satisfaction=df[\"default\"]\n",
    "\n",
    "chi2test = SelectKBest(score_func=chi2, k='all') # you can select the first n features as well (k=n)\n",
    "selector = chi2test.fit(PythonDummies, Satisfaction)\n",
    "\n",
    "# summarize scores\n",
    "np.set_printoptions(precision=3)\n",
    "print('Scores  :', selector.scores_, '\\n')\n",
    "print('p_values:', selector.pvalues_, '\\n')\n",
    "features = selector.transform(PythonDummies)\n",
    "\n",
    "print(PythonDummies.columns[selector.get_support()])\n",
    "\n",
    "dfChi2 = pd.DataFrame(data=np.zeros(shape=(PythonDummies.shape[1],2)), columns = ['Feature', 'p-value'])\n",
    "for i in range(PythonDummies.shape[1]):\n",
    "    dfChi2.loc[i,'Feature'] = PythonDummies.columns[i]\n",
    "    dfChi2.loc[i, 'p-value'] = np.round(selector.pvalues_[i],6)\n",
    "dfChi2.sort_values(by='p-value')"
   ]
  },
  {
   "cell_type": "code",
   "execution_count": null,
   "metadata": {
    "id": "ZyPRCOTZEgh1"
   },
   "outputs": [],
   "source": [
    "#df[\"EDUCATION\"]=df[\"EDUCATION\"].replace(\"0\",\"other\")\n",
    "#df[\"EDUCATION\"]=df[\"EDUCATION\"].replace(\"4\",\"other\")\n",
    "#df[\"EDUCATION\"]=df[\"EDUCATION\"].replace(\"5\",\"other\")\n",
    "#df[\"EDUCATION\"]=df[\"EDUCATION\"].replace(\"6\",\"other\")\n"
   ]
  },
  {
   "cell_type": "markdown",
   "metadata": {
    "id": "qcg6a60A25WW"
   },
   "source": [
    "# MARRIAGE"
   ]
  },
  {
   "cell_type": "code",
   "execution_count": null,
   "metadata": {
    "colab": {
     "base_uri": "https://localhost:8080/",
     "height": 409
    },
    "id": "HI-R4rFp-3LL",
    "outputId": "31298285-c31f-42b7-ba6f-b4b617d8e6cc"
   },
   "outputs": [
    {
     "data": {
      "text/plain": [
       "<matplotlib.axes._subplots.AxesSubplot at 0x7f0e5dd7b590>"
      ]
     },
     "execution_count": 16,
     "metadata": {
      "tags": []
     },
     "output_type": "execute_result"
    },
    {
     "data": {
      "image/png": "[encoded data removed]",
      "text/plain": [
       "<Figure size 864x432 with 1 Axes>"
      ]
     },
     "metadata": {
      "tags": []
     },
     "output_type": "display_data"
    }
   ],
   "source": [
    "df['NUMBER'] = 1 \n",
    "pivot_table = pd.pivot_table(df,values = 'NUMBER',index=['MARRIAGE'],columns=['default'], aggfunc=np.sum,fill_value=0).rename_axis(None)\n",
    "pivot_table = pivot_table[[0,1]]\n",
    "pivot_table.plot(kind='barh', stacked=True,figsize=(12,6), title= 'MARRIAGE and default', rot=0)\n"
   ]
  },
  {
   "cell_type": "code",
   "execution_count": null,
   "metadata": {
    "colab": {
     "base_uri": "https://localhost:8080/",
     "height": 297
    },
    "id": "eE_HMFUiqGSL",
    "outputId": "2f13c4ac-fc64-4e95-810c-ebdb88f7da9c"
   },
   "outputs": [
    {
     "data": {
      "image/png": "[encoded data removed]",
      "text/plain": [
       "<Figure size 576x288 with 1 Axes>"
      ]
     },
     "metadata": {
      "tags": []
     },
     "output_type": "display_data"
    }
   ],
   "source": [
    "table=pd.crosstab(df.MARRIAGE, df.default)\n",
    "table.div(table.sum(1).astype(float), axis=0).plot(kind='bar', figsize=(8,4), stacked=True)\n",
    "plt.title('MARRIAGE vs default')\n",
    "plt.xlabel('MARRIAGE')\n",
    "plt.ylabel('default')\n",
    "plt.show()"
   ]
  },
  {
   "cell_type": "code",
   "execution_count": null,
   "metadata": {
    "id": "rHlcQscj-sVT"
   },
   "outputs": [],
   "source": [
    "df['MARRIAGE']= df['MARRIAGE'].astype('str')"
   ]
  },
  {
   "cell_type": "code",
   "execution_count": null,
   "metadata": {
    "colab": {
     "base_uri": "https://localhost:8080/",
     "height": 252
    },
    "id": "nkN7WI_t-u9m",
    "outputId": "02478a66-47ac-4cf7-b782-7cec9f2accf9"
   },
   "outputs": [
    {
     "name": "stdout",
     "output_type": "stream",
     "text": [
      "Scores  : [ 5.185 14.487 13.159  2.832] \n",
      "\n",
      "p_values: [0.023 0.    0.    0.092] \n",
      "\n",
      "Index(['0', '1', '2', '3'], dtype='object')\n"
     ]
    },
    {
     "data": {
      "text/html": [
       "<div>\n",
       "<style scoped>\n",
       "    .dataframe tbody tr th:only-of-type {\n",
       "        vertical-align: middle;\n",
       "    }\n",
       "\n",
       "    .dataframe tbody tr th {\n",
       "        vertical-align: top;\n",
       "    }\n",
       "\n",
       "    .dataframe thead th {\n",
       "        text-align: right;\n",
       "    }\n",
       "</style>\n",
       "<table border=\"1\" class=\"dataframe\">\n",
       "  <thead>\n",
       "    <tr style=\"text-align: right;\">\n",
       "      <th></th>\n",
       "      <th>Feature</th>\n",
       "      <th>p-value</th>\n",
       "    </tr>\n",
       "  </thead>\n",
       "  <tbody>\n",
       "    <tr>\n",
       "      <th>1</th>\n",
       "      <td>1</td>\n",
       "      <td>0.000141</td>\n",
       "    </tr>\n",
       "    <tr>\n",
       "      <th>2</th>\n",
       "      <td>2</td>\n",
       "      <td>0.000286</td>\n",
       "    </tr>\n",
       "    <tr>\n",
       "      <th>0</th>\n",
       "      <td>0</td>\n",
       "      <td>0.022788</td>\n",
       "    </tr>\n",
       "    <tr>\n",
       "      <th>3</th>\n",
       "      <td>3</td>\n",
       "      <td>0.092423</td>\n",
       "    </tr>\n",
       "  </tbody>\n",
       "</table>\n",
       "</div>"
      ],
      "text/plain": [
       "  Feature   p-value\n",
       "1       1  0.000141\n",
       "2       2  0.000286\n",
       "0       0  0.022788\n",
       "3       3  0.092423"
      ]
     },
     "execution_count": 19,
     "metadata": {
      "tags": []
     },
     "output_type": "execute_result"
    }
   ],
   "source": [
    "PythonDummies = df['MARRIAGE'].str.get_dummies(sep=\",\")\n",
    "Satisfaction=df[\"default\"]\n",
    "\n",
    "chi2test = SelectKBest(score_func=chi2, k='all') # you can select the first n features as well (k=n)\n",
    "selector = chi2test.fit(PythonDummies, Satisfaction)\n",
    "\n",
    "# summarize scores\n",
    "np.set_printoptions(precision=3)\n",
    "print('Scores  :', selector.scores_, '\\n')\n",
    "print('p_values:', selector.pvalues_, '\\n')\n",
    "features = selector.transform(PythonDummies)\n",
    "\n",
    "print(PythonDummies.columns[selector.get_support()])\n",
    "\n",
    "dfChi2 = pd.DataFrame(data=np.zeros(shape=(PythonDummies.shape[1],2)), columns = ['Feature', 'p-value'])\n",
    "for i in range(PythonDummies.shape[1]):\n",
    "    dfChi2.loc[i,'Feature'] = PythonDummies.columns[i]\n",
    "    dfChi2.loc[i, 'p-value'] = np.round(selector.pvalues_[i],6)\n",
    "dfChi2.sort_values(by='p-value')"
   ]
  },
  {
   "cell_type": "markdown",
   "metadata": {
    "id": "_aZM9YjL_MtT"
   },
   "source": [
    "Except for the '2' , '0' and '1' group, the P value for each is greater than 0.05, but also '0' group is very less indicating that the power of separability in each group is weak between the Default state. I prefer to use only 'Is_2' and 'ıs_1'group"
   ]
  },
  {
   "cell_type": "code",
   "execution_count": null,
   "metadata": {
    "id": "kfpQCX2tGNJw"
   },
   "outputs": [],
   "source": [
    "cols_to_transform = ['MARRIAGE'] # make a list if more than one column\n",
    "df = pd.get_dummies(df, columns = cols_to_transform)\n"
   ]
  },
  {
   "cell_type": "code",
   "execution_count": null,
   "metadata": {
    "colab": {
     "base_uri": "https://localhost:8080/",
     "height": 95
    },
    "id": "qufWn71NGcOr",
    "outputId": "616fdb6e-6c85-4716-ff44-391879034764"
   },
   "outputs": [
    {
     "data": {
      "text/html": [
       "<div>\n",
       "<style scoped>\n",
       "    .dataframe tbody tr th:only-of-type {\n",
       "        vertical-align: middle;\n",
       "    }\n",
       "\n",
       "    .dataframe tbody tr th {\n",
       "        vertical-align: top;\n",
       "    }\n",
       "\n",
       "    .dataframe thead th {\n",
       "        text-align: right;\n",
       "    }\n",
       "</style>\n",
       "<table border=\"1\" class=\"dataframe\">\n",
       "  <thead>\n",
       "    <tr style=\"text-align: right;\">\n",
       "      <th></th>\n",
       "      <th>LIMIT_BAL</th>\n",
       "      <th>EDUCATION</th>\n",
       "      <th>AGE</th>\n",
       "      <th>PAY_0</th>\n",
       "      <th>PAY_2</th>\n",
       "      <th>PAY_3</th>\n",
       "      <th>PAY_4</th>\n",
       "      <th>PAY_5</th>\n",
       "      <th>PAY_6</th>\n",
       "      <th>BILL_AMT1</th>\n",
       "      <th>BILL_AMT2</th>\n",
       "      <th>BILL_AMT3</th>\n",
       "      <th>BILL_AMT4</th>\n",
       "      <th>BILL_AMT5</th>\n",
       "      <th>BILL_AMT6</th>\n",
       "      <th>PAY_AMT1</th>\n",
       "      <th>PAY_AMT2</th>\n",
       "      <th>PAY_AMT3</th>\n",
       "      <th>PAY_AMT4</th>\n",
       "      <th>PAY_AMT5</th>\n",
       "      <th>PAY_AMT6</th>\n",
       "      <th>default</th>\n",
       "      <th>SEX_1</th>\n",
       "      <th>NUMBER</th>\n",
       "      <th>MARRIAGE_0</th>\n",
       "      <th>MARRIAGE_1</th>\n",
       "      <th>MARRIAGE_2</th>\n",
       "      <th>MARRIAGE_3</th>\n",
       "    </tr>\n",
       "  </thead>\n",
       "  <tbody>\n",
       "    <tr>\n",
       "      <th>0</th>\n",
       "      <td>20000</td>\n",
       "      <td>2</td>\n",
       "      <td>24</td>\n",
       "      <td>2</td>\n",
       "      <td>2</td>\n",
       "      <td>-1</td>\n",
       "      <td>-1</td>\n",
       "      <td>-2</td>\n",
       "      <td>-2</td>\n",
       "      <td>3913</td>\n",
       "      <td>3102</td>\n",
       "      <td>689</td>\n",
       "      <td>0</td>\n",
       "      <td>0</td>\n",
       "      <td>0</td>\n",
       "      <td>0</td>\n",
       "      <td>689</td>\n",
       "      <td>0</td>\n",
       "      <td>0</td>\n",
       "      <td>0</td>\n",
       "      <td>0</td>\n",
       "      <td>1</td>\n",
       "      <td>0</td>\n",
       "      <td>1</td>\n",
       "      <td>0</td>\n",
       "      <td>1</td>\n",
       "      <td>0</td>\n",
       "      <td>0</td>\n",
       "    </tr>\n",
       "  </tbody>\n",
       "</table>\n",
       "</div>"
      ],
      "text/plain": [
       "   LIMIT_BAL EDUCATION  AGE  ...  MARRIAGE_1  MARRIAGE_2  MARRIAGE_3\n",
       "0      20000         2   24  ...           1           0           0\n",
       "\n",
       "[1 rows x 28 columns]"
      ]
     },
     "execution_count": 19,
     "metadata": {
      "tags": []
     },
     "output_type": "execute_result"
    }
   ],
   "source": [
    "df.head(1)"
   ]
  },
  {
   "cell_type": "code",
   "execution_count": null,
   "metadata": {
    "colab": {
     "base_uri": "https://localhost:8080/",
     "height": 157
    },
    "id": "kZ-PKTGSG7SZ",
    "outputId": "6aa047da-90d2-41da-957d-7b81dcdf7677"
   },
   "outputs": [
    {
     "data": {
      "text/html": [
       "<div>\n",
       "<style scoped>\n",
       "    .dataframe tbody tr th:only-of-type {\n",
       "        vertical-align: middle;\n",
       "    }\n",
       "\n",
       "    .dataframe tbody tr th {\n",
       "        vertical-align: top;\n",
       "    }\n",
       "\n",
       "    .dataframe thead th {\n",
       "        text-align: right;\n",
       "    }\n",
       "</style>\n",
       "<table border=\"1\" class=\"dataframe\">\n",
       "  <thead>\n",
       "    <tr style=\"text-align: right;\">\n",
       "      <th></th>\n",
       "      <th>LIMIT_BAL</th>\n",
       "      <th>EDUCATION</th>\n",
       "      <th>AGE</th>\n",
       "      <th>PAY_0</th>\n",
       "      <th>PAY_2</th>\n",
       "      <th>PAY_3</th>\n",
       "      <th>PAY_4</th>\n",
       "      <th>PAY_5</th>\n",
       "      <th>PAY_6</th>\n",
       "      <th>BILL_AMT1</th>\n",
       "      <th>BILL_AMT2</th>\n",
       "      <th>BILL_AMT3</th>\n",
       "      <th>BILL_AMT4</th>\n",
       "      <th>BILL_AMT5</th>\n",
       "      <th>BILL_AMT6</th>\n",
       "      <th>PAY_AMT1</th>\n",
       "      <th>PAY_AMT2</th>\n",
       "      <th>PAY_AMT3</th>\n",
       "      <th>PAY_AMT4</th>\n",
       "      <th>PAY_AMT5</th>\n",
       "      <th>PAY_AMT6</th>\n",
       "      <th>default</th>\n",
       "      <th>SEX_1</th>\n",
       "      <th>NUMBER</th>\n",
       "      <th>MARRIAGE_1</th>\n",
       "      <th>MARRIAGE_2</th>\n",
       "    </tr>\n",
       "  </thead>\n",
       "  <tbody>\n",
       "    <tr>\n",
       "      <th>0</th>\n",
       "      <td>20000</td>\n",
       "      <td>2</td>\n",
       "      <td>24</td>\n",
       "      <td>2</td>\n",
       "      <td>2</td>\n",
       "      <td>-1</td>\n",
       "      <td>-1</td>\n",
       "      <td>-2</td>\n",
       "      <td>-2</td>\n",
       "      <td>3913</td>\n",
       "      <td>3102</td>\n",
       "      <td>689</td>\n",
       "      <td>0</td>\n",
       "      <td>0</td>\n",
       "      <td>0</td>\n",
       "      <td>0</td>\n",
       "      <td>689</td>\n",
       "      <td>0</td>\n",
       "      <td>0</td>\n",
       "      <td>0</td>\n",
       "      <td>0</td>\n",
       "      <td>1</td>\n",
       "      <td>0</td>\n",
       "      <td>1</td>\n",
       "      <td>1</td>\n",
       "      <td>0</td>\n",
       "    </tr>\n",
       "    <tr>\n",
       "      <th>1</th>\n",
       "      <td>120000</td>\n",
       "      <td>2</td>\n",
       "      <td>26</td>\n",
       "      <td>-1</td>\n",
       "      <td>2</td>\n",
       "      <td>0</td>\n",
       "      <td>0</td>\n",
       "      <td>0</td>\n",
       "      <td>2</td>\n",
       "      <td>2682</td>\n",
       "      <td>1725</td>\n",
       "      <td>2682</td>\n",
       "      <td>3272</td>\n",
       "      <td>3455</td>\n",
       "      <td>3261</td>\n",
       "      <td>0</td>\n",
       "      <td>1000</td>\n",
       "      <td>1000</td>\n",
       "      <td>1000</td>\n",
       "      <td>0</td>\n",
       "      <td>2000</td>\n",
       "      <td>1</td>\n",
       "      <td>0</td>\n",
       "      <td>1</td>\n",
       "      <td>0</td>\n",
       "      <td>1</td>\n",
       "    </tr>\n",
       "    <tr>\n",
       "      <th>2</th>\n",
       "      <td>90000</td>\n",
       "      <td>2</td>\n",
       "      <td>34</td>\n",
       "      <td>0</td>\n",
       "      <td>0</td>\n",
       "      <td>0</td>\n",
       "      <td>0</td>\n",
       "      <td>0</td>\n",
       "      <td>0</td>\n",
       "      <td>29239</td>\n",
       "      <td>14027</td>\n",
       "      <td>13559</td>\n",
       "      <td>14331</td>\n",
       "      <td>14948</td>\n",
       "      <td>15549</td>\n",
       "      <td>1518</td>\n",
       "      <td>1500</td>\n",
       "      <td>1000</td>\n",
       "      <td>1000</td>\n",
       "      <td>1000</td>\n",
       "      <td>5000</td>\n",
       "      <td>0</td>\n",
       "      <td>0</td>\n",
       "      <td>1</td>\n",
       "      <td>0</td>\n",
       "      <td>1</td>\n",
       "    </tr>\n",
       "  </tbody>\n",
       "</table>\n",
       "</div>"
      ],
      "text/plain": [
       "   LIMIT_BAL EDUCATION  AGE  PAY_0  ...  SEX_1  NUMBER  MARRIAGE_1  MARRIAGE_2\n",
       "0      20000         2   24      2  ...      0       1           1           0\n",
       "1     120000         2   26     -1  ...      0       1           0           1\n",
       "2      90000         2   34      0  ...      0       1           0           1\n",
       "\n",
       "[3 rows x 26 columns]"
      ]
     },
     "execution_count": 21,
     "metadata": {
      "tags": []
     },
     "output_type": "execute_result"
    }
   ],
   "source": [
    "df=df.drop(['MARRIAGE_0', 'MARRIAGE_3'], axis=1)\n",
    "\n",
    "df.head(3)"
   ]
  },
  {
   "cell_type": "markdown",
   "metadata": {
    "id": "y6VAqWxf3BBQ"
   },
   "source": [
    "# AGE"
   ]
  },
  {
   "cell_type": "code",
   "execution_count": null,
   "metadata": {
    "colab": {
     "base_uri": "https://localhost:8080/",
     "height": 577
    },
    "id": "MA_NQXCN3Hud",
    "outputId": "5d692339-6728-49bf-c2cc-7959cec3a01a"
   },
   "outputs": [
    {
     "data": {
      "image/png": "[encoded data removed]",
      "text/plain": [
       "<Figure size 1080x648 with 1 Axes>"
      ]
     },
     "metadata": {
      "tags": []
     },
     "output_type": "display_data"
    }
   ],
   "source": [
    "table=pd.crosstab(df.AGE, df.default)\n",
    "table.div(table.sum(1).astype(float), axis=0).plot(kind='bar', figsize=(15,9), stacked=True)\n",
    "plt.title('AGE vs default')\n",
    "plt.xlabel('AGE')\n",
    "plt.ylabel('default')\n",
    "plt.show()"
   ]
  },
  {
   "cell_type": "code",
   "execution_count": null,
   "metadata": {
    "colab": {
     "base_uri": "https://localhost:8080/"
    },
    "id": "BU3WNyOb3_Wn",
    "outputId": "e806a637-e43c-45fe-9c21-62cbb96f466f"
   },
   "outputs": [
    {
     "data": {
      "text/plain": [
       "29    1605\n",
       "27    1477\n",
       "28    1409\n",
       "30    1395\n",
       "26    1256\n",
       "31    1217\n",
       "25    1186\n",
       "34    1162\n",
       "32    1158\n",
       "33    1146\n",
       "24    1127\n",
       "35    1113\n",
       "36    1108\n",
       "37    1041\n",
       "39     954\n",
       "38     944\n",
       "23     931\n",
       "40     870\n",
       "41     824\n",
       "42     794\n",
       "44     700\n",
       "43     670\n",
       "45     617\n",
       "46     570\n",
       "22     560\n",
       "47     501\n",
       "48     466\n",
       "49     452\n",
       "50     411\n",
       "51     340\n",
       "53     325\n",
       "52     304\n",
       "54     247\n",
       "55     209\n",
       "56     178\n",
       "58     122\n",
       "57     122\n",
       "59      83\n",
       "60      67\n",
       "21      67\n",
       "61      56\n",
       "62      44\n",
       "63      31\n",
       "64      31\n",
       "66      25\n",
       "65      24\n",
       "67      16\n",
       "69      15\n",
       "70      10\n",
       "68       5\n",
       "73       4\n",
       "71       3\n",
       "72       3\n",
       "75       3\n",
       "74       1\n",
       "79       1\n",
       "Name: AGE, dtype: int64"
      ]
     },
     "execution_count": 23,
     "metadata": {
      "tags": []
     },
     "output_type": "execute_result"
    }
   ],
   "source": [
    "df['AGE'].unique()\n",
    "df['AGE'].value_counts()"
   ]
  },
  {
   "cell_type": "markdown",
   "metadata": {
    "id": "BbWa1sy5_0Sm"
   },
   "source": [
    "#FOR PAYMENT STATUS"
   ]
  },
  {
   "cell_type": "code",
   "execution_count": null,
   "metadata": {
    "colab": {
     "base_uri": "https://localhost:8080/",
     "height": 573
    },
    "id": "Ko2zX8Dw3o3z",
    "outputId": "ab6e0eb5-c3ee-41db-e9d7-3e484f8059ca"
   },
   "outputs": [
    {
     "data": {
      "image/png": "[encoded data removed]",
      "text/plain": [
       "<Figure size 1080x648 with 1 Axes>"
      ]
     },
     "metadata": {
      "tags": []
     },
     "output_type": "display_data"
    }
   ],
   "source": [
    "table=pd.crosstab(df.PAY_0, df.default)\n",
    "table.div(table.sum(1).astype(float), axis=0).plot(kind='bar', figsize=(15,9), stacked=True)\n",
    "plt.title('PAY_0 vs default')\n",
    "plt.xlabel('PAY_0')\n",
    "plt.ylabel('default')\n",
    "plt.show()"
   ]
  },
  {
   "cell_type": "code",
   "execution_count": null,
   "metadata": {
    "colab": {
     "base_uri": "https://localhost:8080/",
     "height": 409
    },
    "id": "zxxDR-CZ_4Lh",
    "outputId": "17436700-c786-4896-a8db-1d85d354c60e"
   },
   "outputs": [
    {
     "data": {
      "text/plain": [
       "<matplotlib.axes._subplots.AxesSubplot at 0x7f0e5ccb8f90>"
      ]
     },
     "execution_count": 25,
     "metadata": {
      "tags": []
     },
     "output_type": "execute_result"
    },
    {
     "data": {
      "image/png": "[encoded data removed]",
      "text/plain": [
       "<Figure size 864x432 with 1 Axes>"
      ]
     },
     "metadata": {
      "tags": []
     },
     "output_type": "display_data"
    }
   ],
   "source": [
    "df['NUMBER'] = 1 \n",
    "pivot_table = pd.pivot_table(df,values = 'NUMBER',index=['PAY_0'],columns=['default'], aggfunc=np.sum,fill_value=0).rename_axis(None)\n",
    "pivot_table = pivot_table[[0,1]]\n",
    "pivot_table.plot(kind='barh', stacked=True,figsize=(12,6), title= 'PAY_0 and default', rot=0)\n"
   ]
  },
  {
   "cell_type": "code",
   "execution_count": null,
   "metadata": {
    "colab": {
     "base_uri": "https://localhost:8080/"
    },
    "id": "-o9aOXMB_-B7",
    "outputId": "a45fe46d-c547-41c8-fa24-a766bcb2f6d0"
   },
   "outputs": [
    {
     "data": {
      "text/plain": [
       " 0    14737\n",
       "-1     5686\n",
       " 1     3688\n",
       "-2     2759\n",
       " 2     2667\n",
       " 3      322\n",
       " 4       76\n",
       " 5       26\n",
       " 8       19\n",
       " 6       11\n",
       " 7        9\n",
       "Name: PAY_0, dtype: int64"
      ]
     },
     "execution_count": 26,
     "metadata": {
      "tags": []
     },
     "output_type": "execute_result"
    }
   ],
   "source": [
    "df['PAY_0'].unique()\n",
    "df['PAY_0'].value_counts()"
   ]
  },
  {
   "cell_type": "code",
   "execution_count": null,
   "metadata": {
    "colab": {
     "base_uri": "https://localhost:8080/",
     "height": 573
    },
    "id": "l5zFNqjA6Gpa",
    "outputId": "4d4b3776-7fbe-43eb-a74b-4e09a92ee116"
   },
   "outputs": [
    {
     "data": {
      "image/png": "[encoded data removed]",
      "text/plain": [
       "<Figure size 1080x648 with 1 Axes>"
      ]
     },
     "metadata": {
      "tags": []
     },
     "output_type": "display_data"
    }
   ],
   "source": [
    "table=pd.crosstab(df.PAY_2, df.default)\n",
    "table.div(table.sum(1).astype(float), axis=0).plot(kind='bar', figsize=(15,9), stacked=True)\n",
    "plt.title('PAY_2 vs default')\n",
    "plt.xlabel('PAY_2')\n",
    "plt.ylabel('default')\n",
    "plt.show()"
   ]
  },
  {
   "cell_type": "code",
   "execution_count": null,
   "metadata": {
    "colab": {
     "base_uri": "https://localhost:8080/",
     "height": 573
    },
    "id": "xcUcD4uW6GnO",
    "outputId": "8398bea2-3ad1-4a09-bd26-9b7d72732f33"
   },
   "outputs": [
    {
     "data": {
      "image/png": "[encoded data removed]",
      "text/plain": [
       "<Figure size 1080x648 with 1 Axes>"
      ]
     },
     "metadata": {
      "tags": []
     },
     "output_type": "display_data"
    }
   ],
   "source": [
    "table=pd.crosstab(df.PAY_3, df.default)\n",
    "table.div(table.sum(1).astype(float), axis=0).plot(kind='bar', figsize=(15,9), stacked=True)\n",
    "plt.title('PAY_3 vs default')\n",
    "plt.xlabel('PAY_3')\n",
    "plt.ylabel('default')\n",
    "plt.show()"
   ]
  },
  {
   "cell_type": "code",
   "execution_count": null,
   "metadata": {
    "colab": {
     "base_uri": "https://localhost:8080/",
     "height": 573
    },
    "id": "NUihQr8O6Gk7",
    "outputId": "f0d56bac-3a86-4644-c4a4-965e6f0ca485"
   },
   "outputs": [
    {
     "data": {
      "image/png": "[encoded data removed]",
      "text/plain": [
       "<Figure size 1080x648 with 1 Axes>"
      ]
     },
     "metadata": {
      "tags": []
     },
     "output_type": "display_data"
    }
   ],
   "source": [
    "table=pd.crosstab(df.PAY_4, df.default)\n",
    "table.div(table.sum(1).astype(float), axis=0).plot(kind='bar', figsize=(15,9), stacked=True)\n",
    "plt.title('PAY_4 vs default')\n",
    "plt.xlabel('PAY_4')\n",
    "plt.ylabel('default')\n",
    "plt.show()"
   ]
  },
  {
   "cell_type": "code",
   "execution_count": null,
   "metadata": {
    "colab": {
     "base_uri": "https://localhost:8080/",
     "height": 296
    },
    "id": "AuEx4uLL6Gg2",
    "outputId": "e7ac07f1-f49c-4042-fb9c-5c75df786635"
   },
   "outputs": [
    {
     "data": {
      "image/png": "[encoded data removed]",
      "text/plain": [
       "<Figure size 432x288 with 1 Axes>"
      ]
     },
     "metadata": {
      "tags": []
     },
     "output_type": "display_data"
    }
   ],
   "source": [
    "g = sns.kdeplot(df['BILL_AMT1'][(df[\"default\"] == 0)], color=\"Red\", shade = True)\n",
    "g = sns.kdeplot(df['BILL_AMT1'][(df[\"default\"] == 1)], ax =g, color=\"Blue\", shade= True)\n",
    "g.set_xlabel('BILL_AMT1')\n",
    "g.set_ylabel(\"Frequency\")\n",
    "g = g.legend([\"Limit Balance for Default Payment = 0\", \"Limit Balance for Default Payment = 1\"])"
   ]
  },
  {
   "cell_type": "code",
   "execution_count": null,
   "metadata": {
    "colab": {
     "base_uri": "https://localhost:8080/",
     "height": 296
    },
    "id": "YPfFewO36nvZ",
    "outputId": "b6ecb8b6-5538-45e2-c603-4092e559c0eb"
   },
   "outputs": [
    {
     "data": {
      "image/png": "[encoded data removed]",
      "text/plain": [
       "<Figure size 432x288 with 1 Axes>"
      ]
     },
     "metadata": {
      "tags": []
     },
     "output_type": "display_data"
    }
   ],
   "source": [
    "g = sns.kdeplot(df['BILL_AMT2'][(df[\"default\"] == 0)], color=\"Red\", shade = True)\n",
    "g = sns.kdeplot(df['BILL_AMT2'][(df[\"default\"] == 1)], ax =g, color=\"Blue\", shade= True)\n",
    "g.set_xlabel('BILL_AMT2')\n",
    "g.set_ylabel(\"Frequency\")\n",
    "g = g.legend([\"Limit Balance for Default Payment = 0\", \"Limit Balance for Default Payment = 1\"])"
   ]
  },
  {
   "cell_type": "code",
   "execution_count": null,
   "metadata": {
    "colab": {
     "base_uri": "https://localhost:8080/",
     "height": 296
    },
    "id": "ix2oJa6n6qYU",
    "outputId": "fa0068cf-401b-4b60-e551-f0672a6b04d8"
   },
   "outputs": [
    {
     "data": {
      "image/png": "[encoded data removed]",
      "text/plain": [
       "<Figure size 432x288 with 1 Axes>"
      ]
     },
     "metadata": {
      "tags": []
     },
     "output_type": "display_data"
    }
   ],
   "source": [
    "g = sns.kdeplot(df['BILL_AMT3'][(df[\"default\"] == 0)], color=\"Red\", shade = True)\n",
    "g = sns.kdeplot(df['BILL_AMT3'][(df[\"default\"] == 1)], ax =g, color=\"Blue\", shade= True)\n",
    "g.set_xlabel('BILL_AMT3')\n",
    "g.set_ylabel(\"Frequency\")\n",
    "g = g.legend([\"Limit Balance for Default Payment = 0\", \"Limit Balance for Default Payment = 1\"])"
   ]
  },
  {
   "cell_type": "code",
   "execution_count": null,
   "metadata": {
    "colab": {
     "base_uri": "https://localhost:8080/",
     "height": 296
    },
    "id": "sgnOmC8a6tgU",
    "outputId": "9f346833-ece9-467b-cb7b-02e74dab6472"
   },
   "outputs": [
    {
     "data": {
      "image/png": "[encoded data removed]",
      "text/plain": [
       "<Figure size 432x288 with 1 Axes>"
      ]
     },
     "metadata": {
      "tags": []
     },
     "output_type": "display_data"
    }
   ],
   "source": [
    "g = sns.kdeplot(df['BILL_AMT4'][(df[\"default\"] == 0)], color=\"Red\", shade = True)\n",
    "g = sns.kdeplot(df['BILL_AMT4'][(df[\"default\"] == 1)], ax =g, color=\"Blue\", shade= True)\n",
    "g.set_xlabel('BILL_AMT4')\n",
    "g.set_ylabel(\"Frequency\")\n",
    "g = g.legend([\"Limit Balance for Default Payment = 0\", \"Limit Balance for Default Payment = 1\"])"
   ]
  },
  {
   "cell_type": "code",
   "execution_count": null,
   "metadata": {
    "id": "tx3mHpUeIZLs"
   },
   "outputs": [],
   "source": [
    "df=df.drop(['NUMBER'], axis=1)"
   ]
  },
  {
   "cell_type": "markdown",
   "metadata": {
    "id": "3t5KsXjcJFYz"
   },
   "source": [
    "# **MODELLİNG**\n"
   ]
  },
  {
   "cell_type": "code",
   "execution_count": null,
   "metadata": {
    "colab": {
     "base_uri": "https://localhost:8080/"
    },
    "id": "IyCFmv_QOETI",
    "outputId": "97dde8ec-f2aa-458e-b8cb-eaf2c3a4d2e5"
   },
   "outputs": [
    {
     "name": "stdout",
     "output_type": "stream",
     "text": [
      "<class 'pandas.core.frame.DataFrame'>\n",
      "RangeIndex: 30000 entries, 0 to 29999\n",
      "Data columns (total 25 columns):\n",
      " #   Column      Non-Null Count  Dtype \n",
      "---  ------      --------------  ----- \n",
      " 0   LIMIT_BAL   30000 non-null  int64 \n",
      " 1   EDUCATION   30000 non-null  object\n",
      " 2   AGE         30000 non-null  int64 \n",
      " 3   PAY_0       30000 non-null  int64 \n",
      " 4   PAY_2       30000 non-null  int64 \n",
      " 5   PAY_3       30000 non-null  int64 \n",
      " 6   PAY_4       30000 non-null  int64 \n",
      " 7   PAY_5       30000 non-null  int64 \n",
      " 8   PAY_6       30000 non-null  int64 \n",
      " 9   BILL_AMT1   30000 non-null  int64 \n",
      " 10  BILL_AMT2   30000 non-null  int64 \n",
      " 11  BILL_AMT3   30000 non-null  int64 \n",
      " 12  BILL_AMT4   30000 non-null  int64 \n",
      " 13  BILL_AMT5   30000 non-null  int64 \n",
      " 14  BILL_AMT6   30000 non-null  int64 \n",
      " 15  PAY_AMT1    30000 non-null  int64 \n",
      " 16  PAY_AMT2    30000 non-null  int64 \n",
      " 17  PAY_AMT3    30000 non-null  int64 \n",
      " 18  PAY_AMT4    30000 non-null  int64 \n",
      " 19  PAY_AMT5    30000 non-null  int64 \n",
      " 20  PAY_AMT6    30000 non-null  int64 \n",
      " 21  default     30000 non-null  int64 \n",
      " 22  SEX_1       30000 non-null  uint8 \n",
      " 23  MARRIAGE_1  30000 non-null  uint8 \n",
      " 24  MARRIAGE_2  30000 non-null  uint8 \n",
      "dtypes: int64(21), object(1), uint8(3)\n",
      "memory usage: 5.1+ MB\n"
     ]
    }
   ],
   "source": [
    "df.info()"
   ]
  },
  {
   "cell_type": "markdown",
   "metadata": {
    "id": "v0xT-Huy04vD"
   },
   "source": [
    "**DEFAULT MODEL FOR TREE BASED ALGORITHMS**"
   ]
  },
  {
   "cell_type": "code",
   "execution_count": null,
   "metadata": {
    "id": "PX_tjwxb1gGY"
   },
   "outputs": [],
   "source": [
    "df.EDUCATION = df.EDUCATION.astype('int64')\n",
    "df.SEX_1 = df.SEX_1.astype('int64')\n",
    "df.MARRIAGE_1 = df.MARRIAGE_1.astype('int64')\n",
    "df.MARRIAGE_2 = df.MARRIAGE_2.astype('int64')\n",
    "\n"
   ]
  },
  {
   "cell_type": "code",
   "execution_count": null,
   "metadata": {
    "id": "MXtxuCjVJVnm"
   },
   "outputs": [],
   "source": [
    "y = df.default\n",
    "X = df.drop('default', axis=1) #drop column \"Price\" from the dataset "
   ]
  },
  {
   "cell_type": "code",
   "execution_count": null,
   "metadata": {
    "id": "wetH8-NsKqAg"
   },
   "outputs": [],
   "source": [
    "X_train, X_test, y_train, y_test = train_test_split(X, y, test_size=0.4, random_state=1) \n",
    "seed = 42"
   ]
  },
  {
   "cell_type": "code",
   "execution_count": null,
   "metadata": {
    "id": "xbDs2Rvs04H8"
   },
   "outputs": [],
   "source": [
    "seed = 10\n",
    "tree = DecisionTreeClassifier(random_state=seed)\n",
    "models = [\n",
    "    ['DecisionTree', DecisionTreeClassifier(random_state=seed)], \n",
    "    ['RandomForest', RandomForestClassifier(n_estimators=100, random_state=seed)], #default changes to 100 in sklearn 0.22\n",
    "    ['ExtraTrees', ExtraTreesClassifier(n_estimators=100, random_state=seed)],\n",
    "    ['BaggingClassifier', BaggingClassifier(base_estimator=tree, n_estimators=100, random_state=seed)],\n",
    "    ['AdaBoost', AdaBoostClassifier(n_estimators=100, random_state=seed)], \n",
    "    ['GradientBoosting', GradientBoostingClassifier(random_state=seed)],\n",
    "    ['XGBoost', XGBClassifier(seed=seed)],\n",
    "    ]"
   ]
  },
  {
   "cell_type": "code",
   "execution_count": null,
   "metadata": {
    "colab": {
     "base_uri": "https://localhost:8080/"
    },
    "id": "g7MguZOc1FMg",
    "outputId": "b42b439f-d25b-42c4-af7e-414e5a99e42b"
   },
   "outputs": [
    {
     "name": "stdout",
     "output_type": "stream",
     "text": [
      "f1 - score : \n",
      "==============================\n",
      "     DecisionTree  0.408\n",
      "     RandomForest  0.467\n",
      "       ExtraTrees  0.451\n",
      "BaggingClassifier  0.469\n",
      "         AdaBoost  0.435\n",
      " GradientBoosting  0.471\n",
      "          XGBoost  0.471\n",
      "\n",
      "recall - score : \n",
      "==============================\n",
      "     DecisionTree  0.420\n",
      "     RandomForest  0.368\n",
      "       ExtraTrees  0.358\n",
      "BaggingClassifier  0.373\n",
      "         AdaBoost  0.321\n",
      " GradientBoosting  0.363\n",
      "          XGBoost  0.360\n",
      "\n",
      "precision_score - score : \n",
      "==============================\n",
      "     DecisionTree  0.396\n",
      "     RandomForest  0.638\n",
      "       ExtraTrees  0.610\n",
      "BaggingClassifier  0.632\n",
      "         AdaBoost  0.675\n",
      " GradientBoosting  0.672\n",
      "          XGBoost  0.680\n"
     ]
    }
   ],
   "source": [
    "# Use the following classifiers with their defaults\n",
    "\n",
    "log_cols=[\"Classifier\", \"F1_score\"]\n",
    "log_f1 = pd.DataFrame(columns=log_cols)\n",
    "\n",
    "\n",
    "print(\"f1 - score : \")\n",
    "print(\"=\"*30)\n",
    "for abbrv, clf in models:\n",
    "    clf.fit(X_train, y_train)\n",
    "    y_pred = clf.predict(X_test)\n",
    "    log_entry = pd.DataFrame([[abbrv, f1_score(y_test, y_pred)*100]], columns=log_cols)\n",
    "    log_f1 = log_f1.append(log_entry)\n",
    "    print('%17s  %5.3f' % (abbrv,f1_score(y_test, y_pred)))\n",
    "    \n",
    "\n",
    "print(\"\")\n",
    "print(\"recall - score : \")\n",
    "print(\"=\"*30)\n",
    "for abbrv, clf in models:\n",
    "    clf.fit(X_train, y_train)\n",
    "    y_pred = clf.predict(X_test)\n",
    "    print('%17s  %5.3f' % (abbrv,recall_score(y_test, y_pred)))\n",
    "\n",
    "\n",
    "print(\"\")\n",
    "print(\"precision_score - score : \")\n",
    "print(\"=\"*30)\n",
    "for abbrv, clf in models:\n",
    "    clf.fit(X_train, y_train)\n",
    "    y_pred = clf.predict(X_test)\n",
    "\n",
    "    print('%17s  %5.3f' % (abbrv,precision_score(y_test, y_pred)))\n",
    "    "
   ]
  },
  {
   "cell_type": "code",
   "execution_count": null,
   "metadata": {
    "colab": {
     "base_uri": "https://localhost:8080/",
     "height": 300
    },
    "id": "Ml3LcE4gMDDX",
    "outputId": "ad73fd07-39b7-46f2-ed7d-d89d63f55eed"
   },
   "outputs": [
    {
     "data": {
      "image/png": "[encoded data removed]",
      "text/plain": [
       "<Figure size 432x288 with 1 Axes>"
      ]
     },
     "metadata": {
      "tags": []
     },
     "output_type": "display_data"
    }
   ],
   "source": [
    "sns.set_color_codes(\"muted\")\n",
    "sns.barplot(x='F1_score', y='Classifier', data=log_f1, color=\"b\")\n",
    "\n",
    "plt.xlabel('F1_score %')\n",
    "plt.title('Classifier F1_score')\n",
    "plt.show()\n"
   ]
  },
  {
   "cell_type": "code",
   "execution_count": null,
   "metadata": {
    "id": "xwrm9wn3rx-k"
   },
   "outputs": [],
   "source": [
    "#!pip install pycaret"
   ]
  },
  {
   "cell_type": "code",
   "execution_count": null,
   "metadata": {
    "id": "7tlSmXahsIhV"
   },
   "outputs": [],
   "source": [
    "#from pycaret.utils import enable_colab\n",
    "#enable_colab()"
   ]
  },
  {
   "cell_type": "code",
   "execution_count": null,
   "metadata": {
    "id": "C0Oyh9vvrm4u"
   },
   "outputs": [],
   "source": [
    "#from pycaret.classification import *\n",
    "#data_1=setup(data=df,target=\"default\", train_size = 0.66, normalize = True,feature_selection = True)\n",
    "#best_model=compare_models(n_select = 5)"
   ]
  },
  {
   "cell_type": "markdown",
   "metadata": {
    "id": "Eh3I9cYmUCYy"
   },
   "source": [
    "# **BALANCED**"
   ]
  },
  {
   "cell_type": "code",
   "execution_count": null,
   "metadata": {
    "colab": {
     "base_uri": "https://localhost:8080/",
     "height": 157
    },
    "id": "IoGpv-6X1ODP",
    "outputId": "b935e4d7-fba5-409b-c881-ac585b41f894"
   },
   "outputs": [
    {
     "data": {
      "text/html": [
       "<div>\n",
       "<style scoped>\n",
       "    .dataframe tbody tr th:only-of-type {\n",
       "        vertical-align: middle;\n",
       "    }\n",
       "\n",
       "    .dataframe tbody tr th {\n",
       "        vertical-align: top;\n",
       "    }\n",
       "\n",
       "    .dataframe thead th {\n",
       "        text-align: right;\n",
       "    }\n",
       "</style>\n",
       "<table border=\"1\" class=\"dataframe\">\n",
       "  <thead>\n",
       "    <tr style=\"text-align: right;\">\n",
       "      <th></th>\n",
       "      <th>LIMIT_BAL</th>\n",
       "      <th>EDUCATION</th>\n",
       "      <th>AGE</th>\n",
       "      <th>PAY_0</th>\n",
       "      <th>PAY_2</th>\n",
       "      <th>PAY_3</th>\n",
       "      <th>PAY_4</th>\n",
       "      <th>PAY_5</th>\n",
       "      <th>PAY_6</th>\n",
       "      <th>BILL_AMT1</th>\n",
       "      <th>BILL_AMT2</th>\n",
       "      <th>BILL_AMT3</th>\n",
       "      <th>BILL_AMT4</th>\n",
       "      <th>BILL_AMT5</th>\n",
       "      <th>BILL_AMT6</th>\n",
       "      <th>PAY_AMT1</th>\n",
       "      <th>PAY_AMT2</th>\n",
       "      <th>PAY_AMT3</th>\n",
       "      <th>PAY_AMT4</th>\n",
       "      <th>PAY_AMT5</th>\n",
       "      <th>PAY_AMT6</th>\n",
       "      <th>default</th>\n",
       "      <th>SEX_1</th>\n",
       "      <th>MARRIAGE_1</th>\n",
       "      <th>MARRIAGE_2</th>\n",
       "    </tr>\n",
       "  </thead>\n",
       "  <tbody>\n",
       "    <tr>\n",
       "      <th>0</th>\n",
       "      <td>20000</td>\n",
       "      <td>2</td>\n",
       "      <td>24</td>\n",
       "      <td>2</td>\n",
       "      <td>2</td>\n",
       "      <td>-1</td>\n",
       "      <td>-1</td>\n",
       "      <td>-2</td>\n",
       "      <td>-2</td>\n",
       "      <td>3913</td>\n",
       "      <td>3102</td>\n",
       "      <td>689</td>\n",
       "      <td>0</td>\n",
       "      <td>0</td>\n",
       "      <td>0</td>\n",
       "      <td>0</td>\n",
       "      <td>689</td>\n",
       "      <td>0</td>\n",
       "      <td>0</td>\n",
       "      <td>0</td>\n",
       "      <td>0</td>\n",
       "      <td>1</td>\n",
       "      <td>0</td>\n",
       "      <td>1</td>\n",
       "      <td>0</td>\n",
       "    </tr>\n",
       "    <tr>\n",
       "      <th>1</th>\n",
       "      <td>120000</td>\n",
       "      <td>2</td>\n",
       "      <td>26</td>\n",
       "      <td>-1</td>\n",
       "      <td>2</td>\n",
       "      <td>0</td>\n",
       "      <td>0</td>\n",
       "      <td>0</td>\n",
       "      <td>2</td>\n",
       "      <td>2682</td>\n",
       "      <td>1725</td>\n",
       "      <td>2682</td>\n",
       "      <td>3272</td>\n",
       "      <td>3455</td>\n",
       "      <td>3261</td>\n",
       "      <td>0</td>\n",
       "      <td>1000</td>\n",
       "      <td>1000</td>\n",
       "      <td>1000</td>\n",
       "      <td>0</td>\n",
       "      <td>2000</td>\n",
       "      <td>1</td>\n",
       "      <td>0</td>\n",
       "      <td>0</td>\n",
       "      <td>1</td>\n",
       "    </tr>\n",
       "    <tr>\n",
       "      <th>2</th>\n",
       "      <td>90000</td>\n",
       "      <td>2</td>\n",
       "      <td>34</td>\n",
       "      <td>0</td>\n",
       "      <td>0</td>\n",
       "      <td>0</td>\n",
       "      <td>0</td>\n",
       "      <td>0</td>\n",
       "      <td>0</td>\n",
       "      <td>29239</td>\n",
       "      <td>14027</td>\n",
       "      <td>13559</td>\n",
       "      <td>14331</td>\n",
       "      <td>14948</td>\n",
       "      <td>15549</td>\n",
       "      <td>1518</td>\n",
       "      <td>1500</td>\n",
       "      <td>1000</td>\n",
       "      <td>1000</td>\n",
       "      <td>1000</td>\n",
       "      <td>5000</td>\n",
       "      <td>0</td>\n",
       "      <td>0</td>\n",
       "      <td>0</td>\n",
       "      <td>1</td>\n",
       "    </tr>\n",
       "  </tbody>\n",
       "</table>\n",
       "</div>"
      ],
      "text/plain": [
       "   LIMIT_BAL EDUCATION  AGE  PAY_0  ...  default  SEX_1  MARRIAGE_1  MARRIAGE_2\n",
       "0      20000         2   24      2  ...        1      0           1           0\n",
       "1     120000         2   26     -1  ...        1      0           0           1\n",
       "2      90000         2   34      0  ...        0      0           0           1\n",
       "\n",
       "[3 rows x 25 columns]"
      ]
     },
     "execution_count": 39,
     "metadata": {
      "tags": []
     },
     "output_type": "execute_result"
    }
   ],
   "source": [
    "# Convert to categorical variables\n",
    "df.EDUCATION = df.EDUCATION.astype('category')\n",
    "df.SEX_1 = df.SEX_1.astype('category')\n",
    "df.MARRIAGE_1 = df.MARRIAGE_1.astype('category')\n",
    "df.MARRIAGE_2 = df.MARRIAGE_2.astype('category')\n",
    "\n",
    "# Let's see what the dataframe looks like now:\n",
    "df.head(3)\n"
   ]
  },
  {
   "cell_type": "code",
   "execution_count": null,
   "metadata": {
    "id": "enYcZWHP1d1j"
   },
   "outputs": [],
   "source": [
    "y = df.default\n",
    "X = df.drop('default', axis=1) #drop column \"Price\" from the dataset \n",
    "\n",
    "X_train, X_test, y_train, y_test = train_test_split(X, y, test_size=0.4, random_state=1) \n",
    "seed = 42"
   ]
  },
  {
   "cell_type": "code",
   "execution_count": null,
   "metadata": {
    "id": "0WwEEE4F8cYI"
   },
   "outputs": [],
   "source": [
    "# define the transformer for numerical variables\n",
    "num_transformer = Pipeline(steps=[('scaler', StandardScaler())\n",
    "                                 ])\n",
    "\n",
    "# list of numerical features in the data set\n",
    "num_attrs = X_train.columns[X_train.dtypes != 'category'].tolist()\n",
    "\n",
    "# define the preprocessor to scale numerical variables and leave categorical ones untouched\n",
    "preprocessor = ColumnTransformer(transformers=[('num', num_transformer, num_attrs)],\n",
    "                                 remainder = 'passthrough') # let anything non-numerical pass through"
   ]
  },
  {
   "cell_type": "code",
   "execution_count": null,
   "metadata": {
    "colab": {
     "base_uri": "https://localhost:8080/"
    },
    "id": "JlbBvSEe5ij0",
    "outputId": "b214f819-70b4-482d-d137-2fabbc545911"
   },
   "outputs": [
    {
     "name": "stdout",
     "output_type": "stream",
     "text": [
      "Fitting 5 folds for each of 28 candidates, totalling 140 fits\n"
     ]
    },
    {
     "name": "stderr",
     "output_type": "stream",
     "text": [
      "[Parallel(n_jobs=-1)]: Using backend LokyBackend with 2 concurrent workers.\n",
      "[Parallel(n_jobs=-1)]: Done  46 tasks      | elapsed:   17.2s\n",
      "[Parallel(n_jobs=-1)]: Done 140 out of 140 | elapsed:   40.3s finished\n"
     ]
    },
    {
     "name": "stdout",
     "output_type": "stream",
     "text": [
      "Pipeline(memory=None,\n",
      "         steps=[('preprocessor',\n",
      "                 ColumnTransformer(n_jobs=None, remainder='passthrough',\n",
      "                                   sparse_threshold=0.3,\n",
      "                                   transformer_weights=None,\n",
      "                                   transformers=[('num',\n",
      "                                                  Pipeline(memory=None,\n",
      "                                                           steps=[('scaler',\n",
      "                                                                   StandardScaler(copy=True,\n",
      "                                                                                  with_mean=True,\n",
      "                                                                                  with_std=True))],\n",
      "                                                           verbose=False),\n",
      "                                                  ['LIMIT_BAL', 'AGE', 'PAY_0',\n",
      "                                                   'PAY_2', 'PAY_3', 'PAY_4',\n",
      "                                                   'PAY_5', 'PAY_6',\n",
      "                                                   'BILL_AM...\n",
      "                                                   'BILL_AMT5', 'BILL_AMT6',\n",
      "                                                   'PAY_AMT1', 'PAY_AMT2',\n",
      "                                                   'PAY_AMT3', 'PAY_AMT4',\n",
      "                                                   'PAY_AMT5', 'PAY_AMT6'])],\n",
      "                                   verbose=False)),\n",
      "                ('clf',\n",
      "                 LogisticRegression(C=1.1, class_weight={0: 0.5, 1: 1},\n",
      "                                    dual=False, fit_intercept=True,\n",
      "                                    intercept_scaling=1, l1_ratio=None,\n",
      "                                    max_iter=100, multi_class='auto',\n",
      "                                    n_jobs=None, penalty='l1', random_state=42,\n",
      "                                    solver='saga', tol=0.0001, verbose=0,\n",
      "                                    warm_start=False))],\n",
      "         verbose=False) \n",
      "\n"
     ]
    }
   ],
   "source": [
    "from sklearn.metrics import fbeta_score, make_scorer\n",
    "\n",
    "pipeline = Pipeline(steps=[('preprocessor', preprocessor),\n",
    "                           ('clf', LogisticRegression(random_state=seed))])\n",
    "\n",
    "params = [{'clf__C'           : np.arange(0.1, 2.0), \n",
    "           'clf__penalty'     : ['l1'], \n",
    "           'clf__solver'      : ['liblinear', 'saga'],\n",
    "           'clf__class_weight': [{0:0.5,1:1}, 'balanced']},\n",
    "          \n",
    "          {'clf__C'           : np.arange(0.1, 2.0), \n",
    "           'clf__penalty'     : ['l2'], \n",
    "           'clf__solver'      : ['liblinear', 'newton-cg', 'lbfgs', 'sag', 'saga'],\n",
    "           'clf__class_weight': [{0:0.5,1:1}, 'balanced']},\n",
    "         ]\n",
    "scorer = make_scorer(f1_score)\n",
    "\n",
    "kfold = StratifiedKFold(n_splits = 5, random_state = seed) # train/validation with the same ratio of classes\n",
    "gridcs = GridSearchCV(pipeline, param_grid = params, cv = kfold, scoring=scorer, verbose = 1, n_jobs = -1)\n",
    "# Run the grid search \n",
    "gridcs.fit(X_train, y_train)\n",
    "print(gridcs.best_estimator_,'\\n')"
   ]
  },
  {
   "cell_type": "code",
   "execution_count": null,
   "metadata": {
    "colab": {
     "base_uri": "https://localhost:8080/"
    },
    "id": "Oj59_2DvAJs7",
    "outputId": "4766d5db-ae06-4a7c-ea82-b0252190b6cf"
   },
   "outputs": [
    {
     "name": "stdout",
     "output_type": "stream",
     "text": [
      "Best parameters  : {'clf__C': 1.1, 'clf__class_weight': {0: 0.5, 1: 1}, 'clf__penalty': 'l1', 'clf__solver': 'saga'}\n"
     ]
    }
   ],
   "source": [
    "print('Best parameters  :', gridcs.best_params_)"
   ]
  },
  {
   "cell_type": "code",
   "execution_count": null,
   "metadata": {
    "colab": {
     "base_uri": "https://localhost:8080/"
    },
    "id": "MuWNXHKk-4M-",
    "outputId": "6f42d30b-b4d4-40e8-c756-ebb17406bb93"
   },
   "outputs": [
    {
     "name": "stdout",
     "output_type": "stream",
     "text": [
      "Train f1: 0.5055653192735794\n",
      "Test f1 : 0.4974596863264855\n"
     ]
    }
   ],
   "source": [
    "print('Train f1:', gridcs.score(X_train, y_train))\n",
    "print('Test f1 :', gridcs.score(X_test, y_test))\n"
   ]
  },
  {
   "cell_type": "code",
   "execution_count": null,
   "metadata": {
    "colab": {
     "base_uri": "https://localhost:8080/",
     "height": 472
    },
    "id": "NWOCEe67QUJb",
    "outputId": "3224f11d-c4ce-47f3-92e8-893516a4ad3f"
   },
   "outputs": [
    {
     "name": "stdout",
     "output_type": "stream",
     "text": [
      "Confusion Matrix:\n"
     ]
    },
    {
     "data": {
      "image/png": "[encoded data removed]",
      "text/plain": [
       "<Figure size 432x288 with 2 Axes>"
      ]
     },
     "metadata": {
      "tags": []
     },
     "output_type": "display_data"
    },
    {
     "name": "stdout",
     "output_type": "stream",
     "text": [
      "Classification Report:\n",
      "              precision    recall  f1-score   support\n",
      "\n",
      "           0       0.85      0.92      0.88      9322\n",
      "           1       0.61      0.42      0.50      2678\n",
      "\n",
      "    accuracy                           0.81     12000\n",
      "   macro avg       0.73      0.67      0.69     12000\n",
      "weighted avg       0.79      0.81      0.80     12000\n",
      "\n"
     ]
    }
   ],
   "source": [
    "def draw_cm( actual, predicted ):\n",
    "    cm = confusion_matrix( actual, predicted, [1,0] )\n",
    "    sns.heatmap(cm, annot=True,  fmt='.0f', xticklabels = [\"1\", \"0\"] , \n",
    "                yticklabels = [\"1\", \"0\"] )\n",
    "    plt.ylabel('ACTUAL')\n",
    "    plt.xlabel('PREDICTED')\n",
    "    plt.show()\n",
    "\n",
    "predictions = gridcs.predict(X_test)\n",
    "print( \"Confusion Matrix:\" )\n",
    "draw_cm( y_test, predictions ) #function defined previously\n",
    "\n",
    "print( \"Classification Report:\" )\n",
    "print( classification_report(y_test, predictions) )"
   ]
  },
  {
   "cell_type": "markdown",
   "metadata": {
    "id": "ZFl6XR21UHW3"
   },
   "source": [
    "# **RANDOM OVER SAMPLER**"
   ]
  },
  {
   "cell_type": "code",
   "execution_count": null,
   "metadata": {
    "colab": {
     "base_uri": "https://localhost:8080/"
    },
    "id": "56Gbq6xuAdnP",
    "outputId": "930b1df3-d6de-4854-c6b2-358958db60bd"
   },
   "outputs": [
    {
     "name": "stdout",
     "output_type": "stream",
     "text": [
      "Fitting 10 folds for each of 56 candidates, totalling 560 fits\n"
     ]
    },
    {
     "name": "stderr",
     "output_type": "stream",
     "text": [
      "[Parallel(n_jobs=-1)]: Using backend LokyBackend with 2 concurrent workers.\n",
      "[Parallel(n_jobs=-1)]: Done  46 tasks      | elapsed:   22.1s\n",
      "[Parallel(n_jobs=-1)]: Done 196 tasks      | elapsed:  1.6min\n",
      "[Parallel(n_jobs=-1)]: Done 446 tasks      | elapsed:  3.0min\n",
      "[Parallel(n_jobs=-1)]: Done 560 out of 560 | elapsed:  3.8min finished\n"
     ]
    },
    {
     "name": "stdout",
     "output_type": "stream",
     "text": [
      "Best grid parameters: {'clf__C': 0.1, 'clf__class_weight': 'balanced', 'clf__penalty': 'l1', 'clf__solver': 'saga', 'sampler__sampling_strategy': 0.6} \n",
      "\n"
     ]
    }
   ],
   "source": [
    "num_transformer = Pipeline(steps=[('scaler', StandardScaler())\n",
    "                                 ])\n",
    "num_attrs = X_train.columns[X_train.dtypes != 'category'].tolist()\n",
    "\n",
    "preprocessor = ColumnTransformer(transformers=[('num', num_transformer, num_attrs)],\n",
    "                                 remainder = 'passthrough') # process num features and let all others pass through\n",
    "\n",
    "ovsmp_pipe = pipe_imb([('preprocessor' , preprocessor),\n",
    "                       ('sampler', RandomOverSampler(random_state=seed)),\n",
    "                       ('clf'    , LogisticRegression(random_state=seed))])\n",
    "\n",
    "params = [{'sampler__sampling_strategy': [0.6, 0.7],\n",
    "           'clf__C'           : np.arange(0.1, 2.0), \n",
    "           'clf__penalty'     : ['l1'], \n",
    "           'clf__solver'      : ['liblinear', 'saga'],\n",
    "           'clf__class_weight': [{0:0.5,1:1}, 'balanced']},\n",
    "          \n",
    "          {'sampler__sampling_strategy': [0.6, 0.7],\n",
    "           'clf__C'           : np.arange(0.1, 2.0), \n",
    "           'clf__penalty'     : ['l2'], \n",
    "           'clf__solver'      : ['liblinear', 'newton-cg', 'lbfgs', 'sag', 'saga'],\n",
    "           'clf__class_weight': [{0:0.5,1:1}, 'balanced']},\n",
    "         ]\n",
    "\n",
    "\n",
    "scorer = make_scorer(f1_score)\n",
    "\n",
    "kfold = StratifiedKFold(n_splits=10, random_state=seed)\n",
    "grid1 = GridSearchCV(estimator=ovsmp_pipe, param_grid=params, cv=kfold,scoring=scorer, n_jobs=-1,verbose=1)\n",
    "grid1.fit(X_train, y_train)\n",
    "print('Best grid parameters:', grid1.best_params_, '\\n')"
   ]
  },
  {
   "cell_type": "code",
   "execution_count": null,
   "metadata": {
    "colab": {
     "base_uri": "https://localhost:8080/"
    },
    "id": "XGJs99BtVFhc",
    "outputId": "ab2be652-c9a6-498e-bafb-dc51d5c867a4"
   },
   "outputs": [
    {
     "name": "stdout",
     "output_type": "stream",
     "text": [
      "Train f1: 0.484208467781363\n",
      "Test f1 : 0.48262828899549354\n"
     ]
    }
   ],
   "source": [
    "print('Train f1:', grid1.score(X_train, y_train))\n",
    "print('Test f1 :', grid1.score(X_test, y_test))"
   ]
  },
  {
   "cell_type": "code",
   "execution_count": null,
   "metadata": {
    "colab": {
     "base_uri": "https://localhost:8080/",
     "height": 472
    },
    "id": "LFcy_qW-RguZ",
    "outputId": "ba525ef3-65dc-4671-d003-f1c8ee9af6e0"
   },
   "outputs": [
    {
     "name": "stdout",
     "output_type": "stream",
     "text": [
      "Confusion Matrix:\n"
     ]
    },
    {
     "data": {
      "image/png": "[encoded data removed]",
      "text/plain": [
       "<Figure size 432x288 with 2 Axes>"
      ]
     },
     "metadata": {
      "tags": []
     },
     "output_type": "display_data"
    },
    {
     "name": "stdout",
     "output_type": "stream",
     "text": [
      "Classification Report:\n",
      "              precision    recall  f1-score   support\n",
      "\n",
      "           0       0.87      0.73      0.79      9322\n",
      "           1       0.40      0.62      0.48      2678\n",
      "\n",
      "    accuracy                           0.70     12000\n",
      "   macro avg       0.63      0.67      0.64     12000\n",
      "weighted avg       0.76      0.70      0.72     12000\n",
      "\n"
     ]
    }
   ],
   "source": [
    "predictions = grid1.predict(X_test)\n",
    "print( \"Confusion Matrix:\" )\n",
    "draw_cm( y_test, predictions ) #function defined previously\n",
    "\n",
    "print( \"Classification Report:\" )\n",
    "print( classification_report(y_test, predictions) )"
   ]
  },
  {
   "cell_type": "markdown",
   "metadata": {
    "id": "kMll4HNhVWRC"
   },
   "source": [
    "# **RANDOM UNDER SAMPLER**"
   ]
  },
  {
   "cell_type": "code",
   "execution_count": null,
   "metadata": {
    "colab": {
     "base_uri": "https://localhost:8080/"
    },
    "id": "130xdryDVb7f",
    "outputId": "6fc694ea-1c0e-4385-d273-e4dbd950f33d"
   },
   "outputs": [
    {
     "name": "stdout",
     "output_type": "stream",
     "text": [
      "Fitting 10 folds for each of 56 candidates, totalling 560 fits\n"
     ]
    },
    {
     "name": "stderr",
     "output_type": "stream",
     "text": [
      "[Parallel(n_jobs=-1)]: Using backend LokyBackend with 2 concurrent workers.\n",
      "[Parallel(n_jobs=-1)]: Done  46 tasks      | elapsed:    9.4s\n",
      "[Parallel(n_jobs=-1)]: Done 196 tasks      | elapsed:   41.1s\n",
      "[Parallel(n_jobs=-1)]: Done 446 tasks      | elapsed:  1.4min\n",
      "[Parallel(n_jobs=-1)]: Done 560 out of 560 | elapsed:  1.7min finished\n"
     ]
    },
    {
     "name": "stdout",
     "output_type": "stream",
     "text": [
      "Best grid parameters: {'clf__C': 0.1, 'clf__class_weight': 'balanced', 'clf__penalty': 'l1', 'clf__solver': 'saga', 'sampler__sampling_strategy': 0.6} \n",
      "\n"
     ]
    }
   ],
   "source": [
    "num_transformer = Pipeline(steps=[('scaler', StandardScaler())\n",
    "                                 ])\n",
    "num_attrs = X_train.columns[X_train.dtypes != 'category'].tolist()\n",
    "\n",
    "preprocessor = ColumnTransformer(transformers=[('num', num_transformer, num_attrs)],\n",
    "                                 remainder = 'passthrough') # process num features and let all others pass through\n",
    "\n",
    "ovsmp_pipe = pipe_imb([('preprocessor' , preprocessor),\n",
    "                       ('sampler', RandomUnderSampler(random_state=seed)),\n",
    "                       ('clf'    , LogisticRegression(random_state=seed))])\n",
    "\n",
    "params = [{'sampler__sampling_strategy': [0.6, 0.7],\n",
    "           'clf__C'           : np.arange(0.1, 2.0), \n",
    "           'clf__penalty'     : ['l1'], \n",
    "           'clf__solver'      : ['liblinear', 'saga'],\n",
    "           'clf__class_weight': [{0:0.5,1:1}, 'balanced']},\n",
    "          \n",
    "          {'sampler__sampling_strategy': [0.6, 0.7],\n",
    "           'clf__C'           : np.arange(0.1, 2.0), \n",
    "           'clf__penalty'     : ['l2'], \n",
    "           'clf__solver'      : ['liblinear', 'newton-cg', 'lbfgs', 'sag', 'saga'],\n",
    "           'clf__class_weight': [{0:0.5,1:1}, 'balanced']},\n",
    "         ]\n",
    "\n",
    "\n",
    "scorer = make_scorer(f1_score)\n",
    "\n",
    "kfold = StratifiedKFold(n_splits=10, random_state=seed)\n",
    "grid1 = GridSearchCV(estimator=ovsmp_pipe, param_grid=params, cv=kfold,scoring=scorer, n_jobs=-1,verbose=1)\n",
    "grid1.fit(X_train, y_train)\n",
    "print('Best grid parameters:', grid1.best_params_, '\\n')"
   ]
  },
  {
   "cell_type": "code",
   "execution_count": null,
   "metadata": {
    "colab": {
     "base_uri": "https://localhost:8080/"
    },
    "id": "rkh3Hn0EV8K5",
    "outputId": "9af9b518-28f4-496a-d075-ea00844a4f5f"
   },
   "outputs": [
    {
     "name": "stdout",
     "output_type": "stream",
     "text": [
      "Train f1: 0.48637154455828335\n",
      "Test f1 : 0.4814174589455489\n"
     ]
    }
   ],
   "source": [
    "print('Train f1:', grid1.score(X_train, y_train))\n",
    "print('Test f1 :', grid1.score(X_test, y_test))"
   ]
  },
  {
   "cell_type": "code",
   "execution_count": null,
   "metadata": {
    "colab": {
     "base_uri": "https://localhost:8080/",
     "height": 469
    },
    "id": "fHSeUJLFV8H3",
    "outputId": "b40c2e58-6406-4022-afd3-c70cefe0827b"
   },
   "outputs": [
    {
     "name": "stdout",
     "output_type": "stream",
     "text": [
      "Confusion Matrix:\n"
     ]
    },
    {
     "data": {
      "image/png": "[encoded data removed]",
      "text/plain": [
       "<Figure size 432x288 with 2 Axes>"
      ]
     },
     "metadata": {
      "tags": []
     },
     "output_type": "display_data"
    },
    {
     "name": "stdout",
     "output_type": "stream",
     "text": [
      "Classification Report:\n",
      "              precision    recall  f1-score   support\n",
      "\n",
      "           0       0.87      0.72      0.79      9322\n",
      "           1       0.39      0.62      0.48      2678\n",
      "\n",
      "    accuracy                           0.70     12000\n",
      "   macro avg       0.63      0.67      0.64     12000\n",
      "weighted avg       0.76      0.70      0.72     12000\n",
      "\n"
     ]
    }
   ],
   "source": [
    "predictions = grid1.predict(X_test)\n",
    "print( \"Confusion Matrix:\" )\n",
    "draw_cm( y_test, predictions ) #function defined previously\n",
    "\n",
    "print( \"Classification Report:\" )\n",
    "print( classification_report(y_test, predictions) )"
   ]
  },
  {
   "cell_type": "markdown",
   "metadata": {
    "id": "6WHqli7JWU4G"
   },
   "source": [
    "# **SMOTE**"
   ]
  },
  {
   "cell_type": "code",
   "execution_count": null,
   "metadata": {
    "id": "LEneLPNYV8DH"
   },
   "outputs": [],
   "source": [
    "num_transformer = Pipeline(steps=[('scaler', StandardScaler())\n",
    "                                 ])\n",
    "num_attrs = X_train.columns[X_train.dtypes != 'category'].tolist()\n",
    "\n",
    "preprocessor = ColumnTransformer(transformers=[('num', num_transformer, num_attrs)],\n",
    "                                 remainder = 'passthrough') # process num features and let all others pass through\n",
    "\n",
    "ovsmp_pipe = pipe_imb([('preprocessor' , preprocessor),\n",
    "                       ('sampler', SMOTE(random_state=seed)),\n",
    "                       ('clf'    , LogisticRegression(random_state=seed))])\n",
    "\n",
    "params = [{'sampler__sampling_strategy': [0.6, 0.7],\n",
    "           'clf__C'           : np.arange(0.1, 2.0), \n",
    "           'clf__penalty'     : ['l1'], \n",
    "           'clf__solver'      : ['liblinear', 'saga'],\n",
    "           'clf__class_weight': [{0:0.5,1:1}, 'balanced']},\n",
    "          \n",
    "          {'sampler__sampling_strategy': [0.6, 0.7],\n",
    "           'clf__C'           : np.arange(0.1, 2.0), \n",
    "           'clf__penalty'     : ['l2'], \n",
    "           'clf__solver'      : ['liblinear', 'newton-cg', 'lbfgs', 'sag', 'saga'],\n",
    "           'clf__class_weight': [{0:0.5,1:1}, 'balanced']},\n",
    "         ]\n",
    "\n",
    "\n",
    "scorer = make_scorer(f1_score)\n",
    "\n",
    "kfold = StratifiedKFold(n_splits=10, random_state=seed)\n",
    "grid1 = GridSearchCV(estimator=ovsmp_pipe, param_grid=params, cv=kfold,scoring=scorer, n_jobs=-1,verbose=1)\n",
    "grid1.fit(X_train, y_train)\n",
    "print('Best grid parameters:', grid1.best_params_, '\\n')"
   ]
  },
  {
   "cell_type": "code",
   "execution_count": null,
   "metadata": {
    "colab": {
     "base_uri": "https://localhost:8080/"
    },
    "id": "-0JtRwKuV7_Y",
    "outputId": "c4d18834-e4a7-4588-9714-11c9b9928303"
   },
   "outputs": [
    {
     "name": "stdout",
     "output_type": "stream",
     "text": [
      "Train f1: 0.48637154455828335\n",
      "Test f1 : 0.4814174589455489\n"
     ]
    }
   ],
   "source": [
    "print('Train f1:', grid1.score(X_train, y_train))\n",
    "print('Test f1 :', grid1.score(X_test, y_test))"
   ]
  },
  {
   "cell_type": "code",
   "execution_count": null,
   "metadata": {
    "colab": {
     "base_uri": "https://localhost:8080/",
     "height": 472
    },
    "id": "tt-3h3zGV78m",
    "outputId": "78d1e1a0-ca95-42d2-d9ae-7b47e11af878"
   },
   "outputs": [
    {
     "name": "stdout",
     "output_type": "stream",
     "text": [
      "Confusion Matrix:\n"
     ]
    },
    {
     "data": {
      "image/png": "[encoded data removed]",
      "text/plain": [
       "<Figure size 432x288 with 2 Axes>"
      ]
     },
     "metadata": {
      "tags": []
     },
     "output_type": "display_data"
    },
    {
     "name": "stdout",
     "output_type": "stream",
     "text": [
      "Classification Report:\n",
      "              precision    recall  f1-score   support\n",
      "\n",
      "           0       0.87      0.72      0.79      9322\n",
      "           1       0.39      0.62      0.48      2678\n",
      "\n",
      "    accuracy                           0.70     12000\n",
      "   macro avg       0.63      0.67      0.64     12000\n",
      "weighted avg       0.76      0.70      0.72     12000\n",
      "\n"
     ]
    }
   ],
   "source": [
    "predictions = grid1.predict(X_test)\n",
    "print( \"Confusion Matrix:\" )\n",
    "draw_cm( y_test, predictions ) #function defined previously\n",
    "\n",
    "print( \"Classification Report:\" )\n",
    "print( classification_report(y_test, predictions) )"
   ]
  },
  {
   "cell_type": "markdown",
   "metadata": {
    "id": "nurRJ6iKWwmv"
   },
   "source": [
    "# **SMOTEENN**"
   ]
  },
  {
   "cell_type": "code",
   "execution_count": null,
   "metadata": {
    "colab": {
     "base_uri": "https://localhost:8080/"
    },
    "id": "bTxruJgoV72b",
    "outputId": "e8cd25fc-2f47-4abc-83c1-8711dc7e3b96"
   },
   "outputs": [
    {
     "name": "stdout",
     "output_type": "stream",
     "text": [
      "Fitting 4 folds for each of 56 candidates, totalling 224 fits\n"
     ]
    },
    {
     "name": "stderr",
     "output_type": "stream",
     "text": [
      "[Parallel(n_jobs=-1)]: Using backend LokyBackend with 2 concurrent workers.\n",
      "[Parallel(n_jobs=-1)]: Done  46 tasks      | elapsed:  4.6min\n",
      "[Parallel(n_jobs=-1)]: Done 196 tasks      | elapsed: 18.9min\n",
      "[Parallel(n_jobs=-1)]: Done 224 out of 224 | elapsed: 21.6min finished\n"
     ]
    },
    {
     "name": "stdout",
     "output_type": "stream",
     "text": [
      "Best grid parameters: {'clf__C': 0.1, 'clf__class_weight': 'balanced', 'clf__penalty': 'l2', 'clf__solver': 'liblinear', 'sampler__sampling_strategy': 0.7} \n",
      "\n"
     ]
    }
   ],
   "source": [
    "num_transformer = Pipeline(steps=[('scaler', StandardScaler())\n",
    "                                 ])\n",
    "num_attrs = X_train.columns[X_train.dtypes != 'category'].tolist()\n",
    "\n",
    "preprocessor = ColumnTransformer(transformers=[('num', num_transformer, num_attrs)],\n",
    "                                 remainder = 'passthrough') # process num features and let all others pass through\n",
    "\n",
    "ovsmp_pipe = pipe_imb([('preprocessor' , preprocessor),\n",
    "                       ('sampler', SMOTEENN(enn=EditedNearestNeighbours(), random_state=seed)),\n",
    "                       ('clf'    , LogisticRegression(random_state=seed))])\n",
    "\n",
    "params = [{'sampler__sampling_strategy': [0.6, 0.7],\n",
    "           'clf__C'           : np.arange(0.1, 2.0), \n",
    "           'clf__penalty'     : ['l1'], \n",
    "           'clf__solver'      : ['liblinear', 'saga'],\n",
    "           'clf__class_weight': [{0:0.5,1:1}, 'balanced']},\n",
    "          \n",
    "          {'sampler__sampling_strategy': [0.6, 0.7],\n",
    "           'clf__C'           : np.arange(0.1, 2.0), \n",
    "           'clf__penalty'     : ['l2'], \n",
    "           'clf__solver'      : ['liblinear', 'newton-cg', 'lbfgs', 'sag', 'saga'],\n",
    "           'clf__class_weight': [{0:0.5,1:1}, 'balanced']},\n",
    "         ]\n",
    "\n",
    "\n",
    "scorer = make_scorer(f1_score)\n",
    "\n",
    "kfold = StratifiedKFold(n_splits=4, random_state=seed)\n",
    "grid1 = GridSearchCV(estimator=ovsmp_pipe, param_grid=params, cv=kfold,scoring=scorer, n_jobs=-1,verbose=1)\n",
    "grid1.fit(X_train, y_train)\n",
    "print('Best grid parameters:', grid1.best_params_, '\\n')"
   ]
  },
  {
   "cell_type": "code",
   "execution_count": null,
   "metadata": {
    "colab": {
     "base_uri": "https://localhost:8080/"
    },
    "id": "nLwWd4IvWs_e",
    "outputId": "943d2cc3-6736-42c9-d157-513526ff7c5b"
   },
   "outputs": [
    {
     "name": "stdout",
     "output_type": "stream",
     "text": [
      "Train f1: 0.45853903439042765\n",
      "Test f1 : 0.4642093345074852\n"
     ]
    }
   ],
   "source": [
    "print('Train f1:', grid1.score(X_train, y_train))\n",
    "print('Test f1 :', grid1.score(X_test, y_test))"
   ]
  },
  {
   "cell_type": "code",
   "execution_count": null,
   "metadata": {
    "colab": {
     "base_uri": "https://localhost:8080/",
     "height": 469
    },
    "id": "uOadAf1aWs8i",
    "outputId": "80e2316c-9125-405c-eab3-c88d8ba6b532"
   },
   "outputs": [
    {
     "name": "stdout",
     "output_type": "stream",
     "text": [
      "Confusion Matrix:\n"
     ]
    },
    {
     "data": {
      "image/png": "[encoded data removed]",
      "text/plain": [
       "<Figure size 432x288 with 2 Axes>"
      ]
     },
     "metadata": {
      "tags": []
     },
     "output_type": "display_data"
    },
    {
     "name": "stdout",
     "output_type": "stream",
     "text": [
      "Classification Report:\n",
      "              precision    recall  f1-score   support\n",
      "\n",
      "           0       0.88      0.63      0.73      9322\n",
      "           1       0.35      0.69      0.46      2678\n",
      "\n",
      "    accuracy                           0.65     12000\n",
      "   macro avg       0.61      0.66      0.60     12000\n",
      "weighted avg       0.76      0.65      0.67     12000\n",
      "\n"
     ]
    }
   ],
   "source": [
    "predictions = grid1.predict(X_test)\n",
    "print( \"Confusion Matrix:\" )\n",
    "draw_cm( y_test, predictions ) #function defined previously\n",
    "\n",
    "print( \"Classification Report:\" )\n",
    "print( classification_report(y_test, predictions) )"
   ]
  },
  {
   "cell_type": "markdown",
   "metadata": {
    "id": "oRB7LttWYjnw"
   },
   "source": [
    "# **TUNİNG XGBOOST**"
   ]
  },
  {
   "cell_type": "code",
   "execution_count": 61,
   "metadata": {
    "id": "crVloyPGo_RI"
   },
   "outputs": [],
   "source": [
    "df.EDUCATION = df.EDUCATION.astype('int64')\n",
    "df.SEX_1 = df.SEX_1.astype('int64')\n",
    "df.MARRIAGE_1 = df.MARRIAGE_1.astype('int64')\n",
    "df.MARRIAGE_2 = df.MARRIAGE_2.astype('int64')"
   ]
  },
  {
   "cell_type": "code",
   "execution_count": 62,
   "metadata": {
    "id": "awiuvPi4pQF0"
   },
   "outputs": [],
   "source": [
    "y = df.default\n",
    "X = df.drop('default', axis=1) #drop column \"Price\" from the dataset \n",
    "\n",
    "X_train, X_test, y_train, y_test = train_test_split(X, y, test_size=0.4, random_state=1) \n",
    "seed = 42"
   ]
  },
  {
   "cell_type": "code",
   "execution_count": 63,
   "metadata": {
    "colab": {
     "base_uri": "https://localhost:8080/"
    },
    "id": "TYzZFz5BAh8Y",
    "outputId": "891f83aa-d75e-473e-9f95-19800acc98e1"
   },
   "outputs": [
    {
     "name": "stdout",
     "output_type": "stream",
     "text": [
      "Fitting 4 folds for each of 50 candidates, totalling 200 fits\n"
     ]
    },
    {
     "name": "stderr",
     "output_type": "stream",
     "text": [
      "[Parallel(n_jobs=-1)]: Using backend LokyBackend with 2 concurrent workers.\n",
      "[Parallel(n_jobs=-1)]: Done  46 tasks      | elapsed:   49.5s\n",
      "[Parallel(n_jobs=-1)]: Done 196 tasks      | elapsed:  3.6min\n",
      "[Parallel(n_jobs=-1)]: Done 200 out of 200 | elapsed:  3.7min finished\n"
     ]
    },
    {
     "name": "stdout",
     "output_type": "stream",
     "text": [
      "Train f1: 0.4868181064500083\n",
      "Test f1 : 0.46591466405100546\n"
     ]
    }
   ],
   "source": [
    "model = XGBClassifier(objective='binary:logistic', seed=seed)\n",
    "\n",
    "param_grid = {'learning_rate'   : [0.03, 0.05],\n",
    "              'n_estimators':     [80, 100],\n",
    "              'max_depth'       : [4, 5,],\n",
    "              'min_child_weight': [3, 4],\n",
    "              'subsample'       : [0.6, 0.7],\n",
    "              'colsample_bytree': [0.6, 0.7],\n",
    "              'gamma'           : [ 0.05, 0.1],\n",
    "              'reg_alpha'       : [0, 0.1],\n",
    "              'reg_lambda'      : [0.5, 1]\n",
    "             }\n",
    "\n",
    "\n",
    "scorer = make_scorer(f1_score)\n",
    "\n",
    "grid_search = RandomizedSearchCV(model, param_grid, scoring=scorer, cv=4, n_jobs=-1, verbose=1, n_iter=50)\n",
    "\n",
    "grid_result = grid_search.fit(X_train, y_train)\n",
    "\n",
    "print('Train f1:', grid_result.score(X_train, y_train))\n",
    "print('Test f1 :', grid_result.score(X_test, y_test))\n",
    "\n"
   ]
  },
  {
   "cell_type": "code",
   "execution_count": 65,
   "metadata": {
    "colab": {
     "base_uri": "https://localhost:8080/"
    },
    "id": "SRvTmsVAR4Sz",
    "outputId": "de9e926a-e4eb-4f3d-96a3-49f7ede917ac"
   },
   "outputs": [
    {
     "name": "stdout",
     "output_type": "stream",
     "text": [
      "Fitting 4 folds for each of 50 candidates, totalling 200 fits\n"
     ]
    },
    {
     "name": "stderr",
     "output_type": "stream",
     "text": [
      "[Parallel(n_jobs=-1)]: Using backend LokyBackend with 2 concurrent workers.\n",
      "[Parallel(n_jobs=-1)]: Done  46 tasks      | elapsed:  1.1min\n",
      "[Parallel(n_jobs=-1)]: Done 196 tasks      | elapsed:  4.9min\n",
      "[Parallel(n_jobs=-1)]: Done 200 out of 200 | elapsed:  5.0min finished\n"
     ]
    },
    {
     "name": "stdout",
     "output_type": "stream",
     "text": [
      "Train f1: 0.49165702957211294\n",
      "Test f1 : 0.4653441097232428\n"
     ]
    }
   ],
   "source": [
    "model = XGBClassifier(objective='binary:logistic', seed=seed)\n",
    "\n",
    "pipe = Pipeline([('scaler', StandardScaler()),('clf',XGBClassifier(random_state=42,early_stopping_rounds=25))])\n",
    "\n",
    "param_grid = {'clf__learning_rate'   : [0.03, 0.05,0.1,0.3],\n",
    "              'clf__n_estimators':     [80, 100, 150],\n",
    "              'clf__max_depth'       : [4, 5,6],\n",
    "              'clf__min_child_weight': [3, 4,5,6],\n",
    "              'clf__subsample'       : [0.6, 0.7,0.8],\n",
    "              'clf__colsample_bytree': [0.6, 0.7],\n",
    "              'clf__gamma'           : [ 0.05, 0.1],\n",
    "              'clf__reg_alpha'       : [0, 0.1],\n",
    "              'clf__reg_lambda'      : [0.5, 1,2,3]\n",
    "             }\n",
    "\n",
    "\n",
    "scorer = make_scorer(f1_score)\n",
    "\n",
    "grid_search = RandomizedSearchCV(pipe, param_grid, scoring=scorer, cv=4, n_jobs=-1, verbose=1, n_iter=50)\n",
    "\n",
    "grid_result = grid_search.fit(X_train, y_train)\n",
    "\n",
    "print('Train f1:', grid_result.score(X_train, y_train))\n",
    "print('Test f1 :', grid_result.score(X_test, y_test))\n"
   ]
  },
  {
   "cell_type": "code",
   "execution_count": 66,
   "metadata": {
    "colab": {
     "base_uri": "https://localhost:8080/",
     "height": 472
    },
    "id": "xIpIgTNUWszG",
    "outputId": "e565a733-18df-43c7-8cae-2bcdc458c9f4"
   },
   "outputs": [
    {
     "name": "stdout",
     "output_type": "stream",
     "text": [
      "Confusion Matrix:\n"
     ]
    },
    {
     "data": {
      "image/png": "[encoded data removed]",
      "text/plain": [
       "<Figure size 432x288 with 2 Axes>"
      ]
     },
     "metadata": {
      "tags": []
     },
     "output_type": "display_data"
    },
    {
     "name": "stdout",
     "output_type": "stream",
     "text": [
      "Classification Report:\n",
      "              precision    recall  f1-score   support\n",
      "\n",
      "           0       0.84      0.95      0.89      9322\n",
      "           1       0.68      0.35      0.47      2678\n",
      "\n",
      "    accuracy                           0.82     12000\n",
      "   macro avg       0.76      0.65      0.68     12000\n",
      "weighted avg       0.80      0.82      0.80     12000\n",
      "\n"
     ]
    }
   ],
   "source": [
    "predictions = grid_result.predict(X_test)\n",
    "print( \"Confusion Matrix:\" )\n",
    "draw_cm( y_test, predictions ) #function defined previously\n",
    "\n",
    "print( \"Classification Report:\" )\n",
    "print( classification_report(y_test, predictions) )"
   ]
  },
  {
   "cell_type": "markdown",
   "metadata": {
    "id": "kgaGMuqQpti2"
   },
   "source": [
    "# **XGBOOST WİTH PCA**"
   ]
  },
  {
   "cell_type": "code",
   "execution_count": 68,
   "metadata": {
    "colab": {
     "base_uri": "https://localhost:8080/"
    },
    "id": "iQJsFbQTVcp7",
    "outputId": "8d58826e-8ff5-43f8-a056-31d14a24c1e3"
   },
   "outputs": [
    {
     "name": "stdout",
     "output_type": "stream",
     "text": [
      "Fitting 5 folds for each of 27 candidates, totalling 135 fits\n"
     ]
    },
    {
     "name": "stderr",
     "output_type": "stream",
     "text": [
      "[Parallel(n_jobs=-1)]: Using backend LokyBackend with 2 concurrent workers.\n",
      "[Parallel(n_jobs=-1)]: Done  46 tasks      | elapsed:  3.6min\n",
      "[Parallel(n_jobs=-1)]: Done 135 out of 135 | elapsed: 10.8min finished\n"
     ]
    },
    {
     "name": "stdout",
     "output_type": "stream",
     "text": [
      "Best grid parameters: {'classifier__learning rate': 0.05, 'classifier__n_estimators': 100, 'classifier__subsample': 0.5} \n",
      "\n"
     ]
    }
   ],
   "source": [
    "num_transformer = Pipeline(steps=[('scaler', StandardScaler())\n",
    "                                 ])\n",
    "num_attrs = X_train.columns.tolist()\n",
    "\n",
    "preprocessor = ColumnTransformer(transformers=[('num', num_transformer, num_attrs)],\n",
    "                                 remainder = 'passthrough') # process num features and let all others pass through\n",
    "\n",
    "clf = pipe_imb(steps=[('preprocessor', preprocessor),\n",
    "                      ('sampler', RandomOverSampler(random_state=seed)),  \n",
    "                      (\"pca\", dec.PCA(n_components=20, random_state=seed)),  \n",
    "                      ('classifier', xgb.XGBClassifier(random_state=seed))])\n",
    "\n",
    "params = {'classifier__learning rate': [0.05, 0.1, 0.2 ],\n",
    "                  'classifier__n_estimators': [100,200,300],\n",
    "                  'classifier__subsample':[0.5,0.9,1]\n",
    "                 }\n",
    "\n",
    "kfold = StratifiedKFold(n_splits=5, random_state=seed)\n",
    "\n",
    "scorer = make_scorer(f1_score)\n",
    "\n",
    "grid_pca = model_selection.GridSearchCV(estimator=clf,param_grid=params,cv=kfold,scoring=scorer,verbose=1,n_jobs=-1)\n",
    "\n",
    "grid_pca.fit(X_train, y_train)\n",
    "print('Best grid parameters:', grid_pca.best_params_, '\\n')"
   ]
  },
  {
   "cell_type": "code",
   "execution_count": 69,
   "metadata": {
    "colab": {
     "base_uri": "https://localhost:8080/"
    },
    "id": "9IVzeuB3p6CQ",
    "outputId": "1f7c46b4-d7e9-45b5-86e8-07ab56e3cc16"
   },
   "outputs": [
    {
     "name": "stdout",
     "output_type": "stream",
     "text": [
      "Train f1: 0.5613133794951977\n",
      "Test f1 : 0.5336211190436659\n"
     ]
    }
   ],
   "source": [
    "print('Train f1:', grid_pca.score(X_train, y_train))\n",
    "print('Test f1 :', grid_pca.score(X_test, y_test))"
   ]
  },
  {
   "cell_type": "markdown",
   "metadata": {
    "id": "U9cGk6W1u5aS"
   },
   "source": [
    "**The Best f1 score i found is XGBOOST with pca.**"
   ]
  },
  {
   "cell_type": "markdown",
   "metadata": {
    "id": "AYWNXoZ3mvQv"
   },
   "source": [
    "# TUNİNG SVM"
   ]
  },
  {
   "cell_type": "code",
   "execution_count": 70,
   "metadata": {
    "colab": {
     "base_uri": "https://localhost:8080/"
    },
    "id": "VMRzcxyUTcQr",
    "outputId": "9778e3fe-3cd4-4f1b-b1df-c2ac897b97a6"
   },
   "outputs": [
    {
     "name": "stdout",
     "output_type": "stream",
     "text": [
      "Fitting 10 folds for each of 2 candidates, totalling 20 fits\n"
     ]
    },
    {
     "name": "stderr",
     "output_type": "stream",
     "text": [
      "[Parallel(n_jobs=-1)]: Using backend LokyBackend with 2 concurrent workers.\n",
      "[Parallel(n_jobs=-1)]: Done  20 out of  20 | elapsed:  4.5min finished\n"
     ]
    },
    {
     "name": "stdout",
     "output_type": "stream",
     "text": [
      "\n",
      "Best CV score: 0.527708 using {'classifier__C': 5, 'classifier__class_weight': 'balanced', 'classifier__gamma': 'auto', 'classifier__kernel': 'rbf'}\n",
      "\n",
      "Train f1: 0.5937428111341156\n",
      "Test f1 : 0.5282627484874676\n",
      "\n",
      "               precision    recall  f1-score   support\n",
      "\n",
      "           0       0.87      0.83      0.85      9322\n",
      "           1       0.49      0.57      0.53      2678\n",
      "\n",
      "    accuracy                           0.77     12000\n",
      "   macro avg       0.68      0.70      0.69     12000\n",
      "weighted avg       0.79      0.77      0.78     12000\n",
      "\n",
      "\n",
      "               precision    recall  f1-score   support\n",
      "\n",
      "           0       0.90      0.85      0.87     14042\n",
      "           1       0.54      0.65      0.59      3958\n",
      "\n",
      "    accuracy                           0.80     18000\n",
      "   macro avg       0.72      0.75      0.73     18000\n",
      "weighted avg       0.82      0.80      0.81     18000\n",
      "\n"
     ]
    }
   ],
   "source": [
    "from sklearn.svm import SVC\n",
    "from sklearn.pipeline import Pipeline\n",
    "from sklearn.metrics import fbeta_score, make_scorer\n",
    "\n",
    "pipeline = Pipeline(steps=[('scaler', StandardScaler()),\n",
    "                           ('classifier',SVC(random_state=seed))])\n",
    "\n",
    "params = [\n",
    "          {'classifier__kernel': ['rbf'], \n",
    "           'classifier__gamma' : ['auto'], \n",
    "           'classifier__C'     : [5],\n",
    "           'classifier__class_weight': [{0:0.5,1:1}, 'balanced']}\n",
    "         ]\n",
    "kfold = model_selection.KFold(n_splits = 10, random_state=seed)\n",
    "\n",
    "scorer = make_scorer(f1_score)\n",
    "grid_search = GridSearchCV(pipeline, params, scoring=scorer, n_jobs=-1, cv=10,verbose=1)\n",
    "\n",
    "\n",
    "grid_result = grid_search.fit(X_train, y_train)\n",
    "\n",
    "print(); print(\"Best CV score: %f using %s\\n\" % (grid_result.best_score_, grid_result.best_params_))\n",
    "means = grid_result.cv_results_['mean_test_score']\n",
    "stds = grid_result.cv_results_['std_test_score']\n",
    "params = grid_result.cv_results_['params']\n",
    "\n",
    "print('Train f1:', grid_search.score(X_train, y_train))\n",
    "print('Test f1 :', grid_search.score(X_test, y_test))\n",
    "\n",
    "print('\\n',classification_report(y_test, grid_search.predict(X_test)))\n",
    "print('\\n',classification_report(y_train, grid_search.predict(X_train)))"
   ]
  },
  {
   "cell_type": "code",
   "execution_count": 71,
   "metadata": {
    "colab": {
     "base_uri": "https://localhost:8080/",
     "height": 472
    },
    "id": "Q8yzbU38Vcsk",
    "outputId": "89d69138-dc65-47bd-ebf1-c74613079335"
   },
   "outputs": [
    {
     "name": "stdout",
     "output_type": "stream",
     "text": [
      "Confusion Matrix:\n"
     ]
    },
    {
     "data": {
      "image/png": "[encoded data removed]",
      "text/plain": [
       "<Figure size 432x288 with 2 Axes>"
      ]
     },
     "metadata": {
      "tags": []
     },
     "output_type": "display_data"
    },
    {
     "name": "stdout",
     "output_type": "stream",
     "text": [
      "Classification Report:\n",
      "              precision    recall  f1-score   support\n",
      "\n",
      "           0       0.87      0.83      0.85      9322\n",
      "           1       0.49      0.57      0.53      2678\n",
      "\n",
      "    accuracy                           0.77     12000\n",
      "   macro avg       0.68      0.70      0.69     12000\n",
      "weighted avg       0.79      0.77      0.78     12000\n",
      "\n"
     ]
    }
   ],
   "source": [
    "predictions = grid_search.predict(X_test)\n",
    "print( \"Confusion Matrix:\" )\n",
    "draw_cm( y_test, predictions ) #function defined previously\n",
    "\n",
    "print( \"Classification Report:\" )\n",
    "print( classification_report(y_test, predictions) )"
   ]
  },
  {
   "cell_type": "markdown",
   "metadata": {
    "id": "U1BIZjBzrXbu"
   },
   "source": [
    "# **Stacking Classifier**"
   ]
  },
  {
   "cell_type": "code",
   "execution_count": 72,
   "metadata": {
    "colab": {
     "base_uri": "https://localhost:8080/"
    },
    "id": "_jb7fHfbra7m",
    "outputId": "8415e013-4520-480f-8f1e-7649b1824507"
   },
   "outputs": [
    {
     "name": "stdout",
     "output_type": "stream",
     "text": [
      "Test score for RF : 0.22672577580747308\n",
      "Test score for SVC: 0.0\n",
      "Test score for XGBClassifier: 0.470703125\n"
     ]
    }
   ],
   "source": [
    "scaler = StandardScaler()\n",
    "\n",
    "clf1 = RandomForestClassifier(n_estimators=100, max_depth=2, random_state=42)\n",
    "clf1.fit(X_train, y_train)\n",
    "\n",
    "clf2 = SVC()\n",
    "X_train_scaled = scaler.fit_transform(X_train)\n",
    "clf2.fit(X_train_scaled, y_train)\n",
    "\n",
    "clf3 = xgb.XGBClassifier() \n",
    "clf3.fit(X_train, y_train)\n",
    "\n",
    "print('Test score for RF :', f1_score(y_test, clf1.predict(X_test)))\n",
    "print('Test score for SVC:', f1_score(y_test, clf2.predict(X_test)))\n",
    "print('Test score for XGBClassifier:', f1_score(y_test, clf3.predict(X_test)))"
   ]
  },
  {
   "cell_type": "code",
   "execution_count": 73,
   "metadata": {
    "colab": {
     "base_uri": "https://localhost:8080/"
    },
    "id": "72eO_hzPra2E",
    "outputId": "e33a5d6f-ac79-4ec5-bdcd-c1fa74443cb6"
   },
   "outputs": [
    {
     "data": {
      "text/plain": [
       "0.42411958449455284"
      ]
     },
     "execution_count": 73,
     "metadata": {
      "tags": []
     },
     "output_type": "execute_result"
    }
   ],
   "source": [
    "# Create Base Learners\n",
    "base_learners = [\n",
    "                 ('clf_1', RandomForestClassifier(n_estimators=100, max_depth=2, random_state=42)),\n",
    "                 ('clf_2', make_pipeline(StandardScaler(), KNeighborsClassifier(n_neighbors=10))),\n",
    "                 ('clf_3', GaussianNB())\n",
    "                ]\n",
    "\n",
    "# Initialize Stacking Classifier with the Meta Learner\n",
    "clf = StackingClassifier(estimators=base_learners,\n",
    "                         final_estimator=LogisticRegression(solver='lbfgs', multi_class='auto', random_state=42),\n",
    "                         cv=10)\n",
    "\n",
    "# Extract score\n",
    "clf.fit(X_train,y_train)\n",
    "y_pred = clf.predict(X_test)\n",
    "\n",
    "f1_score(y_test, clf.predict(X_test))"
   ]
  },
  {
   "cell_type": "code",
   "execution_count": 74,
   "metadata": {
    "id": "JWB-C-ghtf3Y"
   },
   "outputs": [],
   "source": [
    "estimators = [\n",
    "        ('RFC' ,RandomForestClassifier(n_estimators=500, random_state = 42)),\n",
    "        ('KNC', KNeighborsClassifier(5)),\n",
    "        ('DTC', DecisionTreeClassifier()),\n",
    "        ('SVC', SVC(kernel=\"rbf\"))\n",
    "]\n",
    "\n",
    "clf = StackingClassifier(\n",
    "    estimators=estimators, \n",
    "    final_estimator=GradientBoostingClassifier()\n",
    ")\n",
    "\n",
    "clf.fit(X_train,y_train)\n",
    "y_pred = clf.predict(X_test)"
   ]
  },
  {
   "cell_type": "code",
   "execution_count": 75,
   "metadata": {
    "colab": {
     "base_uri": "https://localhost:8080/"
    },
    "id": "73fyvl5IvLyr",
    "outputId": "40a28a4b-8a36-45f2-c851-27aba1b5f37d"
   },
   "outputs": [
    {
     "data": {
      "text/plain": [
       "0.9940347759868002"
      ]
     },
     "execution_count": 75,
     "metadata": {
      "tags": []
     },
     "output_type": "execute_result"
    }
   ],
   "source": [
    "f1_score(y_train, clf.predict(X_train))"
   ]
  },
  {
   "cell_type": "code",
   "execution_count": 76,
   "metadata": {
    "colab": {
     "base_uri": "https://localhost:8080/"
    },
    "id": "Snj3CSDrvCB_",
    "outputId": "7e4f95c6-d996-4600-dec9-d70d260bc7e1"
   },
   "outputs": [
    {
     "data": {
      "text/plain": [
       "0.460219151977132"
      ]
     },
     "execution_count": 76,
     "metadata": {
      "tags": []
     },
     "output_type": "execute_result"
    }
   ],
   "source": [
    "f1_score(y_test, clf.predict(X_test))"
   ]
  },
  {
   "cell_type": "code",
   "execution_count": null,
   "metadata": {
    "id": "nP4Rh12Orasj"
   },
   "outputs": [],
   "source": []
  }
 ],
 "metadata": {
  "accelerator": "GPU",
  "colab": {
   "collapsed_sections": [],
   "name": "cigdemuyumaz_hw2",
   "provenance": [],
   "toc_visible": true
  },
  "kernelspec": {
   "display_name": "Python 3",
   "language": "python",
   "name": "python3"
  },
  "language_info": {
   "codemirror_mode": {
    "name": "ipython",
    "version": 3
   },
   "file_extension": ".py",
   "mimetype": "text/x-python",
   "name": "python",
   "nbconvert_exporter": "python",
   "pygments_lexer": "ipython3",
   "version": "3.8.5"
  }
 },
 "nbformat": 4,
 "nbformat_minor": 1
}
